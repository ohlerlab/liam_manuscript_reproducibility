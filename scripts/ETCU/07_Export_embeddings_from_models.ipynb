{
 "cells": [
  {
   "cell_type": "markdown",
   "id": "affecting-lawsuit",
   "metadata": {},
   "source": [
    "# Export embeddings from trained models ...\n",
    "... for uploading/sharing small intermediate data from which the publication figures can be recreated."
   ]
  },
  {
   "cell_type": "code",
   "execution_count": 1,
   "id": "loaded-sampling",
   "metadata": {},
   "outputs": [],
   "source": [
    "# Conda environment: dynamic_LIAM_challenge_reproducibility"
   ]
  },
  {
   "cell_type": "code",
   "execution_count": 1,
   "id": "statutory-point",
   "metadata": {},
   "outputs": [],
   "source": [
    "# Imports\n",
    "import anndata as ad"
   ]
  },
  {
   "cell_type": "code",
   "execution_count": 2,
   "id": "resident-combining",
   "metadata": {},
   "outputs": [],
   "source": [
    "models = []"
   ]
  },
  {
   "cell_type": "code",
   "execution_count": 3,
   "id": "talented-order",
   "metadata": {},
   "outputs": [],
   "source": [
    "for factor in ['_x1', '_x5', '_x10', '_x25', '_x50', '_x100']:\n",
    "    if factor == '_x1':\n",
    "        models += ['BAVAE_sample_100_extended_use_case',\n",
    "                   'VAE_100_extended_use_case']\n",
    "    else:\n",
    "        models += ['BAVAE_sample_100_extended_use_case{}'.format(factor)]"
   ]
  },
  {
   "cell_type": "code",
   "execution_count": 4,
   "id": "stuck-tsunami",
   "metadata": {},
   "outputs": [
    {
     "data": {
      "text/plain": [
       "['BAVAE_sample_100_extended_use_case',\n",
       " 'VAE_100_extended_use_case',\n",
       " 'BAVAE_sample_100_extended_use_case_x5',\n",
       " 'BAVAE_sample_100_extended_use_case_x10',\n",
       " 'BAVAE_sample_100_extended_use_case_x25',\n",
       " 'BAVAE_sample_100_extended_use_case_x50',\n",
       " 'BAVAE_sample_100_extended_use_case_x100']"
      ]
     },
     "execution_count": 4,
     "metadata": {},
     "output_type": "execute_result"
    }
   ],
   "source": [
    "models"
   ]
  },
  {
   "cell_type": "code",
   "execution_count": 5,
   "id": "arranged-sussex",
   "metadata": {},
   "outputs": [],
   "source": [
    "for model in models:\n",
    "    # Load model\n",
    "    adata = ad.read_h5ad('./../../models/ETCU/{}/adata.h5ad'.format(model))\n",
    "    # Drop 'ATAC' from obsm (large)\n",
    "    keys_to_select = ['X_umap', 'embedding']\n",
    "    obsm_subset = ({key: adata.obsm[key] for key in keys_to_select})\n",
    "    # Select embedding as X for anndata, keep all other meta data (precomputed NNs, UMAP coordinates, ADT, etc.)\n",
    "    embedding = ad.AnnData(adata.obsm['embedding'], obs=adata.obs, obsm=obsm_subset, uns=adata.uns, obsp=adata.obsp)\n",
    "    # Save embeddings to Predictions\n",
    "    embedding.write_h5ad(\"Predictions/{}.prediction.h5ad\".format(model))"
   ]
  }
 ],
 "metadata": {
  "kernelspec": {
   "display_name": "dynamic_LIAM_challenge_reproducibility",
   "language": "python",
   "name": "dynamic_liam_challenge_reproducibility"
  },
  "language_info": {
   "codemirror_mode": {
    "name": "ipython",
    "version": 3
   },
   "file_extension": ".py",
   "mimetype": "text/x-python",
   "name": "python",
   "nbconvert_exporter": "python",
   "pygments_lexer": "ipython3",
   "version": "3.8.12"
  }
 },
 "nbformat": 4,
 "nbformat_minor": 5
}
