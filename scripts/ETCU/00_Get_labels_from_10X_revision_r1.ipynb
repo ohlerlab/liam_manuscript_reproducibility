{
 "cells": [
  {
   "cell_type": "markdown",
   "metadata": {},
   "source": [
    "# Get annotations from 10X for 10x_10k_sorted_nuclei via MOFA+ vignette\n",
    "https://raw.githack.com/bioFAM/MOFA2_tutorials/master/R_tutorials/10x_scRNA_scATAC.html\n",
    "\n",
    "Author: Pia Rautenstrauch\n",
    "\n",
    "Date: October 27th, 2023\n",
    "\n",
    "conda_env: input_scMM"
   ]
  },
  {
   "cell_type": "code",
   "execution_count": 1,
   "metadata": {},
   "outputs": [
    {
     "data": {
      "text/html": [
       "'/fast/home/p/prauten/miniconda3/envs/input_scMM/lib/R/library'"
      ],
      "text/latex": [
       "'/fast/home/p/prauten/miniconda3/envs/input\\_scMM/lib/R/library'"
      ],
      "text/markdown": [
       "'/fast/home/p/prauten/miniconda3/envs/input_scMM/lib/R/library'"
      ],
      "text/plain": [
       "[1] \"/fast/home/p/prauten/miniconda3/envs/input_scMM/lib/R/library\""
      ]
     },
     "metadata": {},
     "output_type": "display_data"
    }
   ],
   "source": [
    ".libPaths()"
   ]
  },
  {
   "cell_type": "code",
   "execution_count": 2,
   "metadata": {},
   "outputs": [
    {
     "data": {
      "text/html": [
       "'/home/prauten/miniconda3/envs/input_scMM/lib/R/base'"
      ],
      "text/latex": [
       "'/home/prauten/miniconda3/envs/input\\_scMM/lib/R/base'"
      ],
      "text/markdown": [
       "'/home/prauten/miniconda3/envs/input_scMM/lib/R/base'"
      ],
      "text/plain": [
       "[1] \"/home/prauten/miniconda3/envs/input_scMM/lib/R/base\""
      ]
     },
     "metadata": {},
     "output_type": "display_data"
    }
   ],
   "source": [
    "R.home(\"base\") "
   ]
  },
  {
   "cell_type": "code",
   "execution_count": 3,
   "metadata": {},
   "outputs": [
    {
     "data": {
      "text/html": [
       "'/home/prauten/miniconda3/envs/input_scMM/lib/R/bin'"
      ],
      "text/latex": [
       "'/home/prauten/miniconda3/envs/input\\_scMM/lib/R/bin'"
      ],
      "text/markdown": [
       "'/home/prauten/miniconda3/envs/input_scMM/lib/R/bin'"
      ],
      "text/plain": [
       "[1] \"/home/prauten/miniconda3/envs/input_scMM/lib/R/bin\""
      ]
     },
     "metadata": {},
     "output_type": "display_data"
    }
   ],
   "source": [
    "R.home(\"bin\")"
   ]
  },
  {
   "cell_type": "markdown",
   "metadata": {},
   "source": [
    "## 1. Set up the notebook\n"
   ]
  },
  {
   "cell_type": "code",
   "execution_count": 4,
   "metadata": {},
   "outputs": [
    {
     "name": "stderr",
     "output_type": "stream",
     "text": [
      "Attaching SeuratObject\n",
      "\n"
     ]
    }
   ],
   "source": [
    "library(Seurat)\n",
    "library(Matrix)  # if you're loading sparse matrices\n",
    "library(ggplot2)"
   ]
  },
  {
   "cell_type": "code",
   "execution_count": 5,
   "metadata": {},
   "outputs": [],
   "source": [
    "# Plot options\n",
    "options(repr.plot.width = 5, repr.plot.height = 4)"
   ]
  },
  {
   "cell_type": "code",
   "execution_count": 6,
   "metadata": {},
   "outputs": [
    {
     "data": {
      "text/plain": [
       "R version 4.0.3 (2020-10-10)\n",
       "Platform: x86_64-conda-linux-gnu (64-bit)\n",
       "Running under: CentOS Linux 7 (Core)\n",
       "\n",
       "Matrix products: default\n",
       "BLAS/LAPACK: /fast/home/p/prauten/miniconda3/envs/input_scMM/lib/libopenblasp-r0.3.12.so\n",
       "\n",
       "locale:\n",
       "[1] C\n",
       "\n",
       "attached base packages:\n",
       "[1] stats     graphics  grDevices utils     datasets  methods   base     \n",
       "\n",
       "other attached packages:\n",
       "[1] ggplot2_3.3.3      Matrix_1.3-2       SeuratObject_4.0.0 Seurat_4.0.0      \n",
       "\n",
       "loaded via a namespace (and not attached):\n",
       "  [1] nlme_3.1-152         matrixStats_0.58.0   RcppAnnoy_0.0.18    \n",
       "  [4] RColorBrewer_1.1-2   httr_1.4.2           repr_1.1.3          \n",
       "  [7] sctransform_0.3.2    tools_4.0.3          R6_2.5.0            \n",
       " [10] irlba_2.3.3          rpart_4.1-15         KernSmooth_2.23-18  \n",
       " [13] uwot_0.1.10          mgcv_1.8-34          DBI_1.1.1           \n",
       " [16] lazyeval_0.2.2       colorspace_2.0-0     withr_2.4.1         \n",
       " [19] tidyselect_1.1.0     gridExtra_2.3        compiler_4.0.3      \n",
       " [22] plotly_4.9.3         scales_1.1.1         spatstat.data_2.0-0 \n",
       " [25] lmtest_0.9-38        ggridges_0.5.3       pbapply_1.4-3       \n",
       " [28] goftest_1.2-2        spatstat_1.64-1      pbdZMQ_0.3-5        \n",
       " [31] stringr_1.4.0        digest_0.6.27        spatstat.utils_2.0-0\n",
       " [34] base64enc_0.1-3      pkgconfig_2.0.3      htmltools_0.5.1.1   \n",
       " [37] parallelly_1.23.0    fastmap_1.1.0        htmlwidgets_1.5.3   \n",
       " [40] rlang_0.4.10         shiny_1.6.0          generics_0.1.0      \n",
       " [43] zoo_1.8-8            jsonlite_1.7.2       ica_1.0-2           \n",
       " [46] dplyr_1.0.4          magrittr_2.0.1       patchwork_1.1.1     \n",
       " [49] Rcpp_1.0.6           IRkernel_1.1.1       munsell_0.5.0       \n",
       " [52] abind_1.4-5          reticulate_1.18      lifecycle_1.0.0     \n",
       " [55] stringi_1.5.3        MASS_7.3-53.1        Rtsne_0.15          \n",
       " [58] plyr_1.8.6           grid_4.0.3           parallel_4.0.3      \n",
       " [61] listenv_0.8.0        promises_1.2.0.1     ggrepel_0.9.1       \n",
       " [64] crayon_1.4.1         deldir_0.2-10        miniUI_0.1.1.1      \n",
       " [67] lattice_0.20-41      IRdisplay_1.0        cowplot_1.1.1       \n",
       " [70] splines_4.0.3        tensor_1.5           pillar_1.4.7        \n",
       " [73] igraph_1.2.6         uuid_0.1-4           future.apply_1.7.0  \n",
       " [76] reshape2_1.4.4       codetools_0.2-18     leiden_0.3.7        \n",
       " [79] glue_1.4.2           evaluate_0.14        data.table_1.13.6   \n",
       " [82] vctrs_0.3.6          png_0.1-7            httpuv_1.5.5        \n",
       " [85] polyclip_1.10-0      gtable_0.3.0         RANN_2.6.1          \n",
       " [88] purrr_0.3.4          tidyr_1.1.2          scattermore_0.7     \n",
       " [91] future_1.21.0        assertthat_0.2.1     mime_0.10           \n",
       " [94] xtable_1.8-4         later_1.1.0.1        survival_3.2-7      \n",
       " [97] viridisLite_0.3.0    tibble_3.0.6         cluster_2.1.1       \n",
       "[100] globals_0.14.0       fitdistrplus_1.1-3   ellipsis_0.3.1      \n",
       "[103] ROCR_1.0-11         "
      ]
     },
     "metadata": {},
     "output_type": "display_data"
    }
   ],
   "source": [
    "sessionInfo()"
   ]
  },
  {
   "cell_type": "code",
   "execution_count": 8,
   "metadata": {},
   "outputs": [],
   "source": [
    "setwd(\"liam_manuscript_reproducibility/data/original/MOFA+/\")"
   ]
  },
  {
   "cell_type": "code",
   "execution_count": 9,
   "metadata": {},
   "outputs": [
    {
     "data": {
      "text/plain": [
       "An object of class Seurat \n",
       "138109 features across 11909 samples within 2 assays \n",
       "Active assay: RNA (29732 features, 0 variable features)\n",
       " 1 other assay present: ATAC"
      ]
     },
     "metadata": {},
     "output_type": "display_data"
    }
   ],
   "source": [
    "seurat <- readRDS(\"seurat.rds\")\n",
    "\n",
    "seurat"
   ]
  },
  {
   "cell_type": "code",
   "execution_count": 10,
   "metadata": {},
   "outputs": [
    {
     "data": {
      "text/html": [
       "<table class=\"dataframe\">\n",
       "<caption>A data.frame: 6 × 4</caption>\n",
       "<thead>\n",
       "\t<tr><th></th><th scope=col>celltype</th><th scope=col>broad_celltype</th><th scope=col>pass_rnaQC</th><th scope=col>pass_accQC</th></tr>\n",
       "\t<tr><th></th><th scope=col>&lt;chr&gt;</th><th scope=col>&lt;chr&gt;</th><th scope=col>&lt;lgl&gt;</th><th scope=col>&lt;lgl&gt;</th></tr>\n",
       "</thead>\n",
       "<tbody>\n",
       "\t<tr><th scope=row>AAACAGCCAAGGAATC</th><td>naive CD4 T cells </td><td>Lymphoid</td><td> TRUE</td><td> TRUE</td></tr>\n",
       "\t<tr><th scope=row>AAACAGCCAATCCCTT</th><td>memory CD4 T cells</td><td>Lymphoid</td><td> TRUE</td><td> TRUE</td></tr>\n",
       "\t<tr><th scope=row>AAACAGCCAATGCGCT</th><td>naive CD4 T cells </td><td>Lymphoid</td><td> TRUE</td><td> TRUE</td></tr>\n",
       "\t<tr><th scope=row>AAACAGCCACACTAAT</th><td>NA                </td><td>NA      </td><td>FALSE</td><td>FALSE</td></tr>\n",
       "\t<tr><th scope=row>AAACAGCCACCAACCG</th><td>NA                </td><td>NA      </td><td>FALSE</td><td>FALSE</td></tr>\n",
       "\t<tr><th scope=row>AAACAGCCAGGATAAC</th><td>NA                </td><td>NA      </td><td>FALSE</td><td>FALSE</td></tr>\n",
       "</tbody>\n",
       "</table>\n"
      ],
      "text/latex": [
       "A data.frame: 6 × 4\n",
       "\\begin{tabular}{r|llll}\n",
       "  & celltype & broad\\_celltype & pass\\_rnaQC & pass\\_accQC\\\\\n",
       "  & <chr> & <chr> & <lgl> & <lgl>\\\\\n",
       "\\hline\n",
       "\tAAACAGCCAAGGAATC & naive CD4 T cells  & Lymphoid &  TRUE &  TRUE\\\\\n",
       "\tAAACAGCCAATCCCTT & memory CD4 T cells & Lymphoid &  TRUE &  TRUE\\\\\n",
       "\tAAACAGCCAATGCGCT & naive CD4 T cells  & Lymphoid &  TRUE &  TRUE\\\\\n",
       "\tAAACAGCCACACTAAT & NA                 & NA       & FALSE & FALSE\\\\\n",
       "\tAAACAGCCACCAACCG & NA                 & NA       & FALSE & FALSE\\\\\n",
       "\tAAACAGCCAGGATAAC & NA                 & NA       & FALSE & FALSE\\\\\n",
       "\\end{tabular}\n"
      ],
      "text/markdown": [
       "\n",
       "A data.frame: 6 × 4\n",
       "\n",
       "| <!--/--> | celltype &lt;chr&gt; | broad_celltype &lt;chr&gt; | pass_rnaQC &lt;lgl&gt; | pass_accQC &lt;lgl&gt; |\n",
       "|---|---|---|---|---|\n",
       "| AAACAGCCAAGGAATC | naive CD4 T cells  | Lymphoid |  TRUE |  TRUE |\n",
       "| AAACAGCCAATCCCTT | memory CD4 T cells | Lymphoid |  TRUE |  TRUE |\n",
       "| AAACAGCCAATGCGCT | naive CD4 T cells  | Lymphoid |  TRUE |  TRUE |\n",
       "| AAACAGCCACACTAAT | NA                 | NA       | FALSE | FALSE |\n",
       "| AAACAGCCACCAACCG | NA                 | NA       | FALSE | FALSE |\n",
       "| AAACAGCCAGGATAAC | NA                 | NA       | FALSE | FALSE |\n",
       "\n"
      ],
      "text/plain": [
       "                 celltype           broad_celltype pass_rnaQC pass_accQC\n",
       "AAACAGCCAAGGAATC naive CD4 T cells  Lymphoid        TRUE       TRUE     \n",
       "AAACAGCCAATCCCTT memory CD4 T cells Lymphoid        TRUE       TRUE     \n",
       "AAACAGCCAATGCGCT naive CD4 T cells  Lymphoid        TRUE       TRUE     \n",
       "AAACAGCCACACTAAT NA                 NA             FALSE      FALSE     \n",
       "AAACAGCCACCAACCG NA                 NA             FALSE      FALSE     \n",
       "AAACAGCCAGGATAAC NA                 NA             FALSE      FALSE     "
      ]
     },
     "metadata": {},
     "output_type": "display_data"
    }
   ],
   "source": [
    "head(seurat@meta.data[,c(\"celltype\",\"broad_celltype\",\"pass_rnaQC\",\"pass_accQC\")])"
   ]
  },
  {
   "cell_type": "code",
   "execution_count": 11,
   "metadata": {},
   "outputs": [
    {
     "data": {
      "text/html": [
       "<style>\n",
       ".list-inline {list-style: none; margin:0; padding: 0}\n",
       ".list-inline>li {display: inline-block}\n",
       ".list-inline>li:not(:last-child)::after {content: \"\\00b7\"; padding: 0 .5ex}\n",
       "</style>\n",
       "<ol class=list-inline><li>'naive CD4 T cells'</li><li>'memory CD4 T cells'</li><li>NA</li><li>'non-classical monocytes'</li><li>'naive CD8 T cells'</li><li>'CD56 (bright) NK cells'</li><li>'classical monocytes'</li><li>'effector CD8 T cells'</li><li>'myeloid DC'</li><li>'intermediate monocytes'</li><li>'memory B cells'</li><li>'MAIT T cells'</li><li>'CD56 (dim) NK cells'</li><li>'naive B cells'</li><li>'plasmacytoid DC'</li></ol>\n"
      ],
      "text/latex": [
       "\\begin{enumerate*}\n",
       "\\item 'naive CD4 T cells'\n",
       "\\item 'memory CD4 T cells'\n",
       "\\item NA\n",
       "\\item 'non-classical monocytes'\n",
       "\\item 'naive CD8 T cells'\n",
       "\\item 'CD56 (bright) NK cells'\n",
       "\\item 'classical monocytes'\n",
       "\\item 'effector CD8 T cells'\n",
       "\\item 'myeloid DC'\n",
       "\\item 'intermediate monocytes'\n",
       "\\item 'memory B cells'\n",
       "\\item 'MAIT T cells'\n",
       "\\item 'CD56 (dim) NK cells'\n",
       "\\item 'naive B cells'\n",
       "\\item 'plasmacytoid DC'\n",
       "\\end{enumerate*}\n"
      ],
      "text/markdown": [
       "1. 'naive CD4 T cells'\n",
       "2. 'memory CD4 T cells'\n",
       "3. NA\n",
       "4. 'non-classical monocytes'\n",
       "5. 'naive CD8 T cells'\n",
       "6. 'CD56 (bright) NK cells'\n",
       "7. 'classical monocytes'\n",
       "8. 'effector CD8 T cells'\n",
       "9. 'myeloid DC'\n",
       "10. 'intermediate monocytes'\n",
       "11. 'memory B cells'\n",
       "12. 'MAIT T cells'\n",
       "13. 'CD56 (dim) NK cells'\n",
       "14. 'naive B cells'\n",
       "15. 'plasmacytoid DC'\n",
       "\n",
       "\n"
      ],
      "text/plain": [
       " [1] \"naive CD4 T cells\"       \"memory CD4 T cells\"     \n",
       " [3] NA                        \"non-classical monocytes\"\n",
       " [5] \"naive CD8 T cells\"       \"CD56 (bright) NK cells\" \n",
       " [7] \"classical monocytes\"     \"effector CD8 T cells\"   \n",
       " [9] \"myeloid DC\"              \"intermediate monocytes\" \n",
       "[11] \"memory B cells\"          \"MAIT T cells\"           \n",
       "[13] \"CD56 (dim) NK cells\"     \"naive B cells\"          \n",
       "[15] \"plasmacytoid DC\"        "
      ]
     },
     "metadata": {},
     "output_type": "display_data"
    }
   ],
   "source": [
    "unique(seurat@meta.data[,c(\"celltype\")])"
   ]
  },
  {
   "cell_type": "code",
   "execution_count": 12,
   "metadata": {},
   "outputs": [
    {
     "data": {
      "text/html": [
       "<style>\n",
       ".list-inline {list-style: none; margin:0; padding: 0}\n",
       ".list-inline>li {display: inline-block}\n",
       ".list-inline>li:not(:last-child)::after {content: \"\\00b7\"; padding: 0 .5ex}\n",
       "</style>\n",
       "<ol class=list-inline><li>'Lymphoid'</li><li>NA</li><li>'Myeloid'</li></ol>\n"
      ],
      "text/latex": [
       "\\begin{enumerate*}\n",
       "\\item 'Lymphoid'\n",
       "\\item NA\n",
       "\\item 'Myeloid'\n",
       "\\end{enumerate*}\n"
      ],
      "text/markdown": [
       "1. 'Lymphoid'\n",
       "2. NA\n",
       "3. 'Myeloid'\n",
       "\n",
       "\n"
      ],
      "text/plain": [
       "[1] \"Lymphoid\" NA         \"Myeloid\" "
      ]
     },
     "metadata": {},
     "output_type": "display_data"
    }
   ],
   "source": [
    "unique(seurat@meta.data[,c(\"broad_celltype\")])"
   ]
  },
  {
   "cell_type": "code",
   "execution_count": 13,
   "metadata": {},
   "outputs": [
    {
     "data": {
      "text/plain": [
       "\n",
       " CD56 (bright) NK cells     CD56 (dim) NK cells            MAIT T cells \n",
       "                    407                     472                     106 \n",
       "    classical monocytes    effector CD8 T cells  intermediate monocytes \n",
       "                   1929                     385                     664 \n",
       "         memory B cells      memory CD4 T cells              myeloid DC \n",
       "                    420                    1611                     242 \n",
       "          naive B cells       naive CD4 T cells       naive CD8 T cells \n",
       "                    295                    1462                    1549 \n",
       "non-classical monocytes         plasmacytoid DC \n",
       "                    383                     107 "
      ]
     },
     "metadata": {},
     "output_type": "display_data"
    }
   ],
   "source": [
    "table(seurat@meta.data$celltype)"
   ]
  },
  {
   "cell_type": "code",
   "execution_count": 14,
   "metadata": {},
   "outputs": [
    {
     "data": {
      "text/plain": [
       "\n",
       "Lymphoid  Myeloid \n",
       "    6814     3218 "
      ]
     },
     "metadata": {},
     "output_type": "display_data"
    }
   ],
   "source": [
    "table(seurat@meta.data$broad_celltype)"
   ]
  },
  {
   "cell_type": "code",
   "execution_count": 15,
   "metadata": {},
   "outputs": [],
   "source": [
    "write.csv(seurat@meta.data[,c(\"celltype\",\"broad_celltype\",\"pass_rnaQC\",\"pass_accQC\")], 'liam_manuscript_reproducibility/data/derived/MOFA+/MOFA_10X_metadata.csv', row.names=TRUE)"
   ]
  }
 ],
 "metadata": {
  "kernelspec": {
   "display_name": "irinput_scMM",
   "language": "R",
   "name": "irinput_scmm"
  },
  "language_info": {
   "codemirror_mode": "r",
   "file_extension": ".r",
   "mimetype": "text/x-r-source",
   "name": "R",
   "pygments_lexer": "r",
   "version": "4.0.3"
  }
 },
 "nbformat": 4,
 "nbformat_minor": 4
}
