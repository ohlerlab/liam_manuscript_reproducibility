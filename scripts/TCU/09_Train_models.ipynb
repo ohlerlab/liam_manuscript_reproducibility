{
 "cells": [
  {
   "cell_type": "markdown",
   "id": "broken-replacement",
   "metadata": {},
   "source": [
    "# Train different variants of the model\n",
    "\n",
    "Save both full models and predictions in format as required for NeurIPS data\n",
    "\n"
   ]
  },
  {
   "cell_type": "code",
   "execution_count": 1,
   "id": "silent-necessity",
   "metadata": {},
   "outputs": [],
   "source": [
    "# Conda environment: dynamic_LIAM_challenge_reproducibility"
   ]
  },
  {
   "cell_type": "code",
   "execution_count": 2,
   "id": "fancy-collective",
   "metadata": {},
   "outputs": [
    {
     "name": "stderr",
     "output_type": "stream",
     "text": [
      "Global seed set to 0\n",
      "OMP: Info #276: omp_set_nested routine deprecated, please use omp_set_max_active_levels instead.\n"
     ]
    }
   ],
   "source": [
    "# Imports\n",
    "import liam_NeurIPS2021_challenge_reproducibility\n",
    "import scanpy as sc\n",
    "import numpy as np\n",
    "import matplotlib.pyplot as plt\n",
    "import pandas as pd\n",
    "import torch\n",
    "import anndata as ad\n",
    "import scvi\n",
    "from sklearn.metrics import silhouette_score, silhouette_samples"
   ]
  },
  {
   "cell_type": "code",
   "execution_count": 3,
   "id": "instant-stations",
   "metadata": {},
   "outputs": [
    {
     "data": {
      "text/plain": [
       "True"
      ]
     },
     "execution_count": 3,
     "metadata": {},
     "output_type": "execute_result"
    }
   ],
   "source": [
    "torch.cuda.is_available()"
   ]
  },
  {
   "cell_type": "code",
   "execution_count": 4,
   "id": "entitled-poultry",
   "metadata": {},
   "outputs": [],
   "source": [
    "model_param_mapping = {}"
   ]
  },
  {
   "cell_type": "code",
   "execution_count": 5,
   "id": "adjusted-broadcast",
   "metadata": {},
   "outputs": [],
   "source": [
    "model_param_mapping['BAVAE_sample_100'] = {}\n",
    "model_param_mapping['BAVAE_sample_100']['setup_anndata_params'] = {'chrom_acc_obsm_key': 'ATAC', 'batch_key': 'sample'}\n",
    "model_param_mapping['BAVAE_sample_100']['Liam_params'] = {'adversarial_training': True, 'n_latent': 20}"
   ]
  },
  {
   "cell_type": "code",
   "execution_count": 6,
   "id": "promising-generator",
   "metadata": {},
   "outputs": [],
   "source": [
    "model_param_mapping['BAVAE_buffer_100'] = {}\n",
    "model_param_mapping['BAVAE_buffer_100']['setup_anndata_params'] = {'chrom_acc_obsm_key': 'ATAC', 'batch_key': 'buffer'}\n",
    "model_param_mapping['BAVAE_buffer_100']['Liam_params'] = {'adversarial_training': True, 'n_latent': 20}"
   ]
  },
  {
   "cell_type": "code",
   "execution_count": 7,
   "id": "legendary-extent",
   "metadata": {},
   "outputs": [],
   "source": [
    "model_param_mapping['BAVAE_sample_100_x5'] = {}\n",
    "model_param_mapping['BAVAE_sample_100_x5']['setup_anndata_params'] = {'chrom_acc_obsm_key': 'ATAC', 'batch_key': 'sample'}\n",
    "model_param_mapping['BAVAE_sample_100_x5']['Liam_params'] = {'adversarial_training': True, 'n_latent': 20, 'factor_adversarial_loss': 5.0}"
   ]
  },
  {
   "cell_type": "code",
   "execution_count": 8,
   "id": "automatic-ethiopia",
   "metadata": {},
   "outputs": [],
   "source": [
    "model_param_mapping['BAVAE_buffer_100_x5'] = {}\n",
    "model_param_mapping['BAVAE_buffer_100_x5']['setup_anndata_params'] = {'chrom_acc_obsm_key': 'ATAC', 'batch_key': 'buffer'}\n",
    "model_param_mapping['BAVAE_buffer_100_x5']['Liam_params'] = {'adversarial_training': True, 'n_latent': 20, 'factor_adversarial_loss': 5.0}"
   ]
  },
  {
   "cell_type": "code",
   "execution_count": 9,
   "id": "previous-architecture",
   "metadata": {},
   "outputs": [],
   "source": [
    "model_param_mapping['BAVAE_sample_100_x10'] = {}\n",
    "model_param_mapping['BAVAE_sample_100_x10']['setup_anndata_params'] = {'chrom_acc_obsm_key': 'ATAC', 'batch_key': 'sample'}\n",
    "model_param_mapping['BAVAE_sample_100_x10']['Liam_params'] = {'adversarial_training': True, 'n_latent': 20, 'factor_adversarial_loss': 10.0}"
   ]
  },
  {
   "cell_type": "code",
   "execution_count": 10,
   "id": "varied-singapore",
   "metadata": {},
   "outputs": [],
   "source": [
    "model_param_mapping['BAVAE_buffer_100_x10'] = {}\n",
    "model_param_mapping['BAVAE_buffer_100_x10']['setup_anndata_params'] = {'chrom_acc_obsm_key': 'ATAC', 'batch_key': 'buffer'}\n",
    "model_param_mapping['BAVAE_buffer_100_x10']['Liam_params'] = {'adversarial_training': True, 'n_latent': 20, 'factor_adversarial_loss': 10.0}"
   ]
  },
  {
   "cell_type": "code",
   "execution_count": 11,
   "id": "wireless-removal",
   "metadata": {},
   "outputs": [],
   "source": [
    "model_param_mapping['BAVAE_sample_100_x25'] = {}\n",
    "model_param_mapping['BAVAE_sample_100_x25']['setup_anndata_params'] = {'chrom_acc_obsm_key': 'ATAC', 'batch_key': 'sample'}\n",
    "model_param_mapping['BAVAE_sample_100_x25']['Liam_params'] = {'adversarial_training': True, 'n_latent': 20, 'factor_adversarial_loss': 25.0}"
   ]
  },
  {
   "cell_type": "code",
   "execution_count": 12,
   "id": "operating-lease",
   "metadata": {},
   "outputs": [],
   "source": [
    "model_param_mapping['BAVAE_buffer_100_x25'] = {}\n",
    "model_param_mapping['BAVAE_buffer_100_x25']['setup_anndata_params'] = {'chrom_acc_obsm_key': 'ATAC', 'batch_key': 'buffer'}\n",
    "model_param_mapping['BAVAE_buffer_100_x25']['Liam_params'] = {'adversarial_training': True, 'n_latent': 20, 'factor_adversarial_loss': 25.0}"
   ]
  },
  {
   "cell_type": "code",
   "execution_count": 13,
   "id": "developmental-fraction",
   "metadata": {},
   "outputs": [],
   "source": [
    "model_param_mapping['BAVAE_sample_100_x50'] = {}\n",
    "model_param_mapping['BAVAE_sample_100_x50']['setup_anndata_params'] = {'chrom_acc_obsm_key': 'ATAC', 'batch_key': 'sample'}\n",
    "model_param_mapping['BAVAE_sample_100_x50']['Liam_params'] = {'adversarial_training': True, 'n_latent': 20, 'factor_adversarial_loss': 50.0}"
   ]
  },
  {
   "cell_type": "code",
   "execution_count": 14,
   "id": "centered-reminder",
   "metadata": {},
   "outputs": [],
   "source": [
    "model_param_mapping['BAVAE_buffer_100_x50'] = {}\n",
    "model_param_mapping['BAVAE_buffer_100_x50']['setup_anndata_params'] = {'chrom_acc_obsm_key': 'ATAC', 'batch_key': 'buffer'}\n",
    "model_param_mapping['BAVAE_buffer_100_x50']['Liam_params'] = {'adversarial_training': True, 'n_latent': 20, 'factor_adversarial_loss': 50.0}"
   ]
  },
  {
   "cell_type": "code",
   "execution_count": 15,
   "id": "different-planner",
   "metadata": {},
   "outputs": [],
   "source": [
    "model_param_mapping['BAVAE_sample_100_x100'] = {}\n",
    "model_param_mapping['BAVAE_sample_100_x100']['setup_anndata_params'] = {'chrom_acc_obsm_key': 'ATAC', 'batch_key': 'sample'}\n",
    "model_param_mapping['BAVAE_sample_100_x100']['Liam_params'] = {'adversarial_training': True, 'n_latent': 20, 'factor_adversarial_loss': 100.0}"
   ]
  },
  {
   "cell_type": "code",
   "execution_count": 16,
   "id": "south-terror",
   "metadata": {},
   "outputs": [],
   "source": [
    "model_param_mapping['BAVAE_buffer_100_x100'] = {}\n",
    "model_param_mapping['BAVAE_buffer_100_x100']['setup_anndata_params'] = {'chrom_acc_obsm_key': 'ATAC', 'batch_key': 'buffer'}\n",
    "model_param_mapping['BAVAE_buffer_100_x100']['Liam_params'] = {'adversarial_training': True, 'n_latent': 20, 'factor_adversarial_loss': 100.0}"
   ]
  },
  {
   "cell_type": "code",
   "execution_count": 17,
   "id": "synthetic-russia",
   "metadata": {},
   "outputs": [],
   "source": [
    "model_param_mapping['BAVAE_sample_100_x1000'] = {}\n",
    "model_param_mapping['BAVAE_sample_100_x1000']['setup_anndata_params'] = {'chrom_acc_obsm_key': 'ATAC', 'batch_key': 'sample'}\n",
    "model_param_mapping['BAVAE_sample_100_x1000']['Liam_params'] = {'adversarial_training': True, 'n_latent': 20, 'factor_adversarial_loss': 1000.0}"
   ]
  },
  {
   "cell_type": "code",
   "execution_count": 18,
   "id": "regulated-shock",
   "metadata": {},
   "outputs": [],
   "source": [
    "model_param_mapping['BAVAE_buffer_100_x1000'] = {}\n",
    "model_param_mapping['BAVAE_buffer_100_x1000']['setup_anndata_params'] = {'chrom_acc_obsm_key': 'ATAC', 'batch_key': 'buffer'}\n",
    "model_param_mapping['BAVAE_buffer_100_x1000']['Liam_params'] = {'adversarial_training': True, 'n_latent': 20, 'factor_adversarial_loss': 1000.0}"
   ]
  },
  {
   "cell_type": "code",
   "execution_count": 19,
   "id": "local-liberia",
   "metadata": {},
   "outputs": [],
   "source": [
    "# also model ATAC lib size (but batch independent)\n",
    "model_param_mapping['VAE_100'] = {}\n",
    "model_param_mapping['VAE_100']['setup_anndata_params'] = {'chrom_acc_obsm_key': 'ATAC', 'batch_key': None}\n",
    "model_param_mapping['VAE_100']['Liam_params'] = {'n_latent': 20, 'dispersion_gex': 'gene', 'dispersion_atac': 'constant'}"
   ]
  },
  {
   "cell_type": "code",
   "execution_count": null,
   "id": "included-democrat",
   "metadata": {},
   "outputs": [],
   "source": [
    "for model in model_param_mapping.keys():\n",
    "    print(model)\n",
    "    scvi._settings.ScviConfig()\n",
    "    input = ad.read_h5ad(\"./../../data/derived/Mimitou2021/DOGMA_seq/preprocessed_DOGMA.h5ad\")\n",
    "\n",
    "    input.obs[\"sample\"] = input.obs[\"batch\"]\n",
    "    input.obs[\"buffer\"] = input.obs[\"batch\"].apply(lambda x: x.split(\"_\")[1])\n",
    "    input.obs[\"condition\"] = input.obs[\"batch\"].apply(lambda x: x.split(\"_\")[2])\n",
    "\n",
    "    liam_NeurIPS2021_challenge_reproducibility.Liam.setup_anndata(\n",
    "            input,\n",
    "            **model_param_mapping[model]['setup_anndata_params']\n",
    "        )\n",
    "\n",
    "    vae = liam_NeurIPS2021_challenge_reproducibility.Liam(input, **model_param_mapping[model]['Liam_params'])\n",
    "\n",
    "    vae.train(train_size=0.95, validation_size=0.05,\n",
    "                  batch_size=128, early_stopping=True, save_best=True, early_stopping_patience=10)\n",
    "\n",
    "    input.obsm[\"embedding\"] = vae.get_latent_representation()\n",
    "\n",
    "    sc.pp.neighbors(input, use_rep=\"embedding\")\n",
    "    sc.tl.umap(input)\n",
    "    sc.tl.leiden(input, key_added=\"leiden_embedding\")\n",
    "    \n",
    "    vae.save(\"./../../models/TCU/{}\".format(model), save_anndata=True)\n",
    "    \n",
    "    del vae\n",
    "    del input\n",
    "    "
   ]
  },
  {
   "cell_type": "code",
   "execution_count": null,
   "id": "immediate-light",
   "metadata": {},
   "outputs": [],
   "source": []
  }
 ],
 "metadata": {
  "kernelspec": {
   "display_name": "dynamic_LIAM_challenge_reproducibility",
   "language": "python",
   "name": "dynamic_liam_challenge_reproducibility"
  },
  "language_info": {
   "codemirror_mode": {
    "name": "ipython",
    "version": 3
   },
   "file_extension": ".py",
   "mimetype": "text/x-python",
   "name": "python",
   "nbconvert_exporter": "python",
   "pygments_lexer": "ipython3",
   "version": "3.8.12"
  }
 },
 "nbformat": 4,
 "nbformat_minor": 5
}
