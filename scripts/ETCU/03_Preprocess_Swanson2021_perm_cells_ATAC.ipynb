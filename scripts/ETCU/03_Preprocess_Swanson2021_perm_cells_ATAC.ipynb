{
 "cells": [
  {
   "cell_type": "code",
   "execution_count": null,
   "metadata": {},
   "outputs": [],
   "source": [
    "# lpr_scregseg environment"
   ]
  },
  {
   "cell_type": "markdown",
   "metadata": {},
   "source": [
    "# Preprocess Swanson et al, 2021. PBMC Multiome data whole (permeabilized) cells (perm_cells)\n",
    "\n",
    "Aim: Derive identical feature set for additional ATAC data from other studies as for treatment-control use case.\n",
    "\n",
    "Keep preprocessing as similar as possible to original publication (Swanson et al., 2021):\n",
    "\n",
    "GEX: \n",
    "\"Filtering was performed to remove low-quality barcodes and putative doublets. For transcription (RNA-seq data), we filtered barcodes based on number of genes detected per barcode: ... permeabilized cells on 10x Multiome: >300 genes, <2,750,750 genes, 8334 barcodes retained; ...\"\n",
    "\n",
    "This must be number of UMIs instead of number of genes, as otherwise we can't retain a similar number of cells as reported in the publiation.\n",
    "\n",
    "We retain cells with >300  <2,750,750 UMIs.\n",
    "\n",
    "ATAC:\n",
    "\"For accessibility (ATAC-seq data), barcodes were filtered using the same criteria as other scATAC-seq libraries, above (>1,000,000 unique fragments, FRIP > 0.2, FRITSS > 0.2, Fraction ENCODE overlap > 0.5), and doublets were removed using the ArchR package (Granja et al., 2020): ... permeabilized cells on 10x Multiome: 7238 barcodes retained; ...\"\n",
    "\n",
    "? Threshold doublets?\n"
   ]
  },
  {
   "cell_type": "code",
   "execution_count": 1,
   "metadata": {},
   "outputs": [],
   "source": [
    "import os\n",
    "import pandas as pd\n",
    "from anndata import read_h5ad\n",
    "import scanpy as sc\n",
    "import scregseg\n",
    "import matplotlib.pyplot as plt\n",
    "import numpy as np"
   ]
  },
  {
   "cell_type": "markdown",
   "metadata": {},
   "source": [
    "## Swanson2021 - PBMC Multiome data whole (permeabilized) cells (perm_cells)"
   ]
  },
  {
   "cell_type": "code",
   "execution_count": 2,
   "metadata": {},
   "outputs": [],
   "source": [
    "## ATAC preprocessing - derive same feature set as in treatment-control use case"
   ]
  },
  {
   "cell_type": "code",
   "execution_count": 3,
   "metadata": {},
   "outputs": [],
   "source": [
    "wd = \"liam_manuscript_reproducibility/data/original/Swanson2021/perm_cells/\""
   ]
  },
  {
   "cell_type": "code",
   "execution_count": 4,
   "metadata": {},
   "outputs": [
    {
     "name": "stdout",
     "output_type": "stream",
     "text": [
      "total 499456\n",
      "-rw-r--r-- 1 prauten AG_Ohler 425162502 Mar  2  2021 GSM5123950_X066-MP0C1W2_leukopak_perm-cells_multiome_200M_atac_filtered_fragments.tsv.gz\n",
      "-rw-r--r-- 1 prauten AG_Ohler    729854 Mar  2  2021 GSM5123950_X066-MP0C1W2_leukopak_perm-cells_multiome_200M_atac_filtered_metadata.csv.gz\n",
      "-rw-r--r-- 1 prauten AG_Ohler  63284073 Mar  2  2021 GSM5123950_X066-MP0C1W2_leukopak_perm-cells_multiome_200M_cellranger-arc_filtered_feature_bc_matrix.h5\n",
      "-rw-r--r-- 1 prauten AG_Ohler  22207386 Mar  2  2021 GSM5123950_X066-MP0C1W2_leukopak_perm-cells_multiome_200M_cellranger-arc_per_barcode_metrics.csv.gz\n"
     ]
    }
   ],
   "source": [
    "! ls -l liam_manuscript_reproducibility/data/original/Swanson2021/perm_cells"
   ]
  },
  {
   "cell_type": "code",
   "execution_count": 5,
   "metadata": {},
   "outputs": [
    {
     "name": "stdout",
     "output_type": "stream",
     "text": [
      "***** WARNING: File /fast/AG_Ohler/prauten/projects/github/Liam_paper_reproducibility/data/original/Swanson2021/perm_cells/GSM5123950_X066-MP0C1W2_leukopak_perm-cells_multiome_200M_atac_filtered_fragments.tsv.gz has inconsistent naming convention for record:\n",
      "GL000009.2\t19143\t19179\tf62a9b083f0511ebba2f42010a19c80f\t1\n",
      "\n",
      "***** WARNING: File /fast/AG_Ohler/prauten/projects/github/Liam_paper_reproducibility/data/original/Swanson2021/perm_cells/GSM5123950_X066-MP0C1W2_leukopak_perm-cells_multiome_200M_atac_filtered_fragments.tsv.gz has inconsistent naming convention for record:\n",
      "GL000009.2\t19143\t19179\tf62a9b083f0511ebba2f42010a19c80f\t1\n",
      "\n",
      "***** WARNING: File /fast/AG_Ohler/prauten/projects/github/Liam_paper_reproducibility/data/original/Swanson2021/perm_cells/GSM5123950_X066-MP0C1W2_leukopak_perm-cells_multiome_200M_atac_filtered_fragments.tsv.gz has inconsistent naming convention for record:\n",
      "GL000009.2\t19143\t19179\tf62a9b083f0511ebba2f42010a19c80f\t1\n",
      "\n",
      "***** WARNING: File /fast/AG_Ohler/prauten/projects/github/Liam_paper_reproducibility/data/original/Swanson2021/perm_cells/GSM5123950_X066-MP0C1W2_leukopak_perm-cells_multiome_200M_atac_filtered_fragments.tsv.gz has inconsistent naming convention for record:\n",
      "GL000009.2\t19143\t19179\tf62a9b083f0511ebba2f42010a19c80f\t1\n",
      "\n",
      "... storing 'chrom' as categorical\n",
      "... storing 'sample' as categorical\n"
     ]
    }
   ],
   "source": [
    "!scregseg fragments_to_counts \\\n",
    "          --fragmentfile liam_manuscript_reproducibility/data/original/Swanson2021/perm_cells/GSM5123950_X066-MP0C1W2_leukopak_perm-cells_multiome_200M_atac_filtered_fragments.tsv.gz \\\n",
    "          --regions liam_manuscript_reproducibility/data/derived/Mimitou2021/ATAC/all_datasets_informative_rarest_states_out_of_50.bed \\\n",
    "          --with-fraglen \\\n",
    "          --counts liam_manuscript_reproducibility/data/derived/Swanson2021/perm_cells/countmatrix_perm_cells_informative_rarest_states_out_of_50_0.h5ad"
   ]
  },
  {
   "cell_type": "code",
   "execution_count": 6,
   "metadata": {},
   "outputs": [],
   "source": [
    "# Load cell ranger meta data (10x pipeline)\n",
    "cellranger_metadata = pd.read_csv(wd + 'GSM5123950_X066-MP0C1W2_leukopak_perm-cells_multiome_200M_cellranger-arc_per_barcode_metrics.csv.gz')"
   ]
  },
  {
   "cell_type": "code",
   "execution_count": 7,
   "metadata": {},
   "outputs": [],
   "source": [
    "# Keep only barcodes that were called as cells by 10x pipeline\n",
    "cellranger_metadata = cellranger_metadata[cellranger_metadata.is_cell==1]"
   ]
  },
  {
   "cell_type": "markdown",
   "metadata": {
    "tags": []
   },
   "source": [
    "## ATAC filtering from Swanson et al, 2021 publication\n",
    "> (>1,000,000 unique fragments, FRIP > 0.2, FRITSS > 0.2, Fraction ENCODE overlap > 0.5), and doublets were removed using the ArchR package (Granja et al., 2020)\n",
    "\n",
    "I could not identify column for: Fraction ENCODE overlap > 0.5\n",
    "\n",
    "\\>1,000,000 unique fragments must be before before filtering/further preprocessing. If we apply this criterion on the meta data file, we retain NO cells.\n",
    "\n",
    "All cells in meta data file fulfil FRIP > 0.2, FRITSS > 0.2 criteria\n",
    "\n",
    "Thresdhold for ArchR doublet is not reported, I chose < 1 to match the reported final cell number as closely as possible."
   ]
  },
  {
   "cell_type": "code",
   "execution_count": 8,
   "metadata": {},
   "outputs": [],
   "source": [
    "tea_seq_metadata = pd.read_csv(wd + 'GSM5123950_X066-MP0C1W2_leukopak_perm-cells_multiome_200M_atac_filtered_metadata.csv.gz')"
   ]
  },
  {
   "cell_type": "code",
   "execution_count": 9,
   "metadata": {},
   "outputs": [
    {
     "data": {
      "text/html": [
       "<div>\n",
       "<style scoped>\n",
       "    .dataframe tbody tr th:only-of-type {\n",
       "        vertical-align: middle;\n",
       "    }\n",
       "\n",
       "    .dataframe tbody tr th {\n",
       "        vertical-align: top;\n",
       "    }\n",
       "\n",
       "    .dataframe thead th {\n",
       "        text-align: right;\n",
       "    }\n",
       "</style>\n",
       "<table border=\"1\" class=\"dataframe\">\n",
       "  <thead>\n",
       "    <tr style=\"text-align: right;\">\n",
       "      <th></th>\n",
       "      <th>original_barcodes</th>\n",
       "      <th>n_fragments</th>\n",
       "      <th>n_duplicate</th>\n",
       "      <th>n_mito</th>\n",
       "      <th>n_unique</th>\n",
       "      <th>altius_count</th>\n",
       "      <th>altius_frac</th>\n",
       "      <th>gene_bodies_count</th>\n",
       "      <th>gene_bodies_frac</th>\n",
       "      <th>peaks_count</th>\n",
       "      <th>...</th>\n",
       "      <th>tss_frac</th>\n",
       "      <th>barcodes</th>\n",
       "      <th>cell_name</th>\n",
       "      <th>well_id</th>\n",
       "      <th>chip_id</th>\n",
       "      <th>batch_id</th>\n",
       "      <th>pbmc_sample_id</th>\n",
       "      <th>DoubletScore</th>\n",
       "      <th>DoubletEnrichment</th>\n",
       "      <th>TSSEnrichment</th>\n",
       "    </tr>\n",
       "  </thead>\n",
       "  <tbody>\n",
       "  </tbody>\n",
       "</table>\n",
       "<p>0 rows × 22 columns</p>\n",
       "</div>"
      ],
      "text/plain": [
       "Empty DataFrame\n",
       "Columns: [original_barcodes, n_fragments, n_duplicate, n_mito, n_unique, altius_count, altius_frac, gene_bodies_count, gene_bodies_frac, peaks_count, peaks_frac, tss_count, tss_frac, barcodes, cell_name, well_id, chip_id, batch_id, pbmc_sample_id, DoubletScore, DoubletEnrichment, TSSEnrichment]\n",
       "Index: []\n",
       "\n",
       "[0 rows x 22 columns]"
      ]
     },
     "execution_count": 9,
     "metadata": {},
     "output_type": "execute_result"
    }
   ],
   "source": [
    "tea_seq_metadata[tea_seq_metadata['n_fragments'] > 1000000]"
   ]
  },
  {
   "cell_type": "code",
   "execution_count": 10,
   "metadata": {},
   "outputs": [
    {
     "data": {
      "text/html": [
       "<div>\n",
       "<style scoped>\n",
       "    .dataframe tbody tr th:only-of-type {\n",
       "        vertical-align: middle;\n",
       "    }\n",
       "\n",
       "    .dataframe tbody tr th {\n",
       "        vertical-align: top;\n",
       "    }\n",
       "\n",
       "    .dataframe thead th {\n",
       "        text-align: right;\n",
       "    }\n",
       "</style>\n",
       "<table border=\"1\" class=\"dataframe\">\n",
       "  <thead>\n",
       "    <tr style=\"text-align: right;\">\n",
       "      <th></th>\n",
       "      <th>original_barcodes</th>\n",
       "      <th>n_fragments</th>\n",
       "      <th>n_duplicate</th>\n",
       "      <th>n_mito</th>\n",
       "      <th>n_unique</th>\n",
       "      <th>altius_count</th>\n",
       "      <th>altius_frac</th>\n",
       "      <th>gene_bodies_count</th>\n",
       "      <th>gene_bodies_frac</th>\n",
       "      <th>peaks_count</th>\n",
       "      <th>...</th>\n",
       "      <th>tss_frac</th>\n",
       "      <th>barcodes</th>\n",
       "      <th>cell_name</th>\n",
       "      <th>well_id</th>\n",
       "      <th>chip_id</th>\n",
       "      <th>batch_id</th>\n",
       "      <th>pbmc_sample_id</th>\n",
       "      <th>DoubletScore</th>\n",
       "      <th>DoubletEnrichment</th>\n",
       "      <th>TSSEnrichment</th>\n",
       "    </tr>\n",
       "  </thead>\n",
       "  <tbody>\n",
       "  </tbody>\n",
       "</table>\n",
       "<p>0 rows × 22 columns</p>\n",
       "</div>"
      ],
      "text/plain": [
       "Empty DataFrame\n",
       "Columns: [original_barcodes, n_fragments, n_duplicate, n_mito, n_unique, altius_count, altius_frac, gene_bodies_count, gene_bodies_frac, peaks_count, peaks_frac, tss_count, tss_frac, barcodes, cell_name, well_id, chip_id, batch_id, pbmc_sample_id, DoubletScore, DoubletEnrichment, TSSEnrichment]\n",
       "Index: []\n",
       "\n",
       "[0 rows x 22 columns]"
      ]
     },
     "execution_count": 10,
     "metadata": {},
     "output_type": "execute_result"
    }
   ],
   "source": [
    "tea_seq_metadata[tea_seq_metadata['n_unique'] > 1000000]"
   ]
  },
  {
   "cell_type": "code",
   "execution_count": 11,
   "metadata": {},
   "outputs": [
    {
     "data": {
      "text/plain": [
       "7854"
      ]
     },
     "execution_count": 11,
     "metadata": {},
     "output_type": "execute_result"
    }
   ],
   "source": [
    "tea_seq_metadata.shape[0]"
   ]
  },
  {
   "cell_type": "code",
   "execution_count": 12,
   "metadata": {},
   "outputs": [
    {
     "data": {
      "text/plain": [
       "7854"
      ]
     },
     "execution_count": 12,
     "metadata": {},
     "output_type": "execute_result"
    }
   ],
   "source": [
    "tea_seq_metadata[tea_seq_metadata['tss_frac'] > 0.2].shape[0]"
   ]
  },
  {
   "cell_type": "code",
   "execution_count": 13,
   "metadata": {},
   "outputs": [
    {
     "data": {
      "text/plain": [
       "7854"
      ]
     },
     "execution_count": 13,
     "metadata": {},
     "output_type": "execute_result"
    }
   ],
   "source": [
    "tea_seq_metadata[tea_seq_metadata['peaks_frac'] > 0.2].shape[0]"
   ]
  },
  {
   "cell_type": "code",
   "execution_count": 14,
   "metadata": {},
   "outputs": [],
   "source": [
    "# -> FRIP > 0.2, FRITSS > 0.2 criteria fulfiled"
   ]
  },
  {
   "cell_type": "code",
   "execution_count": 15,
   "metadata": {},
   "outputs": [
    {
     "data": {
      "text/plain": [
       "<AxesSubplot:>"
      ]
     },
     "execution_count": 15,
     "metadata": {},
     "output_type": "execute_result"
    },
    {
     "data": {
      "image/png": "[encoded data removed]",
      "text/plain": [
       "<Figure size 432x288 with 1 Axes>"
      ]
     },
     "metadata": {
      "needs_background": "light"
     },
     "output_type": "display_data"
    }
   ],
   "source": [
    "tea_seq_metadata['DoubletScore'].hist(bins=30)"
   ]
  },
  {
   "cell_type": "code",
   "execution_count": 16,
   "metadata": {},
   "outputs": [
    {
     "data": {
      "text/plain": [
       "0.000000     7290\n",
       "0.403376       49\n",
       "1.339812       39\n",
       "2.096362       36\n",
       "0.629579       32\n",
       "1.586920       29\n",
       "3.174727       29\n",
       "2.625765       28\n",
       "2.358594       27\n",
       "4.033991       25\n",
       "0.861089       25\n",
       "1.097851       23\n",
       "2.897826       22\n",
       "4.329776       19\n",
       "3.456420       19\n",
       "4.630166       18\n",
       "6.199649       16\n",
       "4.935117       15\n",
       "5.558523       14\n",
       "6.858163       14\n",
       "6.526753       12\n",
       "9.295311       11\n",
       "9.659780        9\n",
       "5.244583        9\n",
       "8.934846        8\n",
       "7.533740        8\n",
       "7.877830        7\n",
       "10.028216       7\n",
       "7.193838        6\n",
       "8.578420        5\n",
       "10.400585       3\n",
       "Name: DoubletScore, dtype: int64"
      ]
     },
     "execution_count": 16,
     "metadata": {},
     "output_type": "execute_result"
    }
   ],
   "source": [
    "tea_seq_metadata['DoubletScore'].value_counts()"
   ]
  },
  {
   "cell_type": "code",
   "execution_count": 17,
   "metadata": {},
   "outputs": [],
   "source": [
    "tea_seq_metadata = tea_seq_metadata[tea_seq_metadata['DoubletScore'] < 1]"
   ]
  },
  {
   "cell_type": "code",
   "execution_count": 18,
   "metadata": {},
   "outputs": [],
   "source": [
    "qcontrolled_cells_Multiome_perm_cells = cellranger_metadata.merge(tea_seq_metadata, left_on=\"gex_barcode\", right_on=\"original_barcodes\")[\"barcodes\"]"
   ]
  },
  {
   "cell_type": "code",
   "execution_count": 19,
   "metadata": {},
   "outputs": [],
   "source": [
    "qcontrolled_cells_Multiome_perm_cells.to_csv('liam_manuscript_reproducibility/data/derived/Swanson2021/perm_cells/' + 'qcontrolled_cells_Multiome_perm_cells.csv', index=False)"
   ]
  },
  {
   "cell_type": "code",
   "execution_count": 20,
   "metadata": {},
   "outputs": [
    {
     "name": "stdout",
     "output_type": "stream",
     "text": [
      "7269 high-quality cells are left for downstream processing\n"
     ]
    }
   ],
   "source": [
    "print(f'{qcontrolled_cells_Multiome_perm_cells.shape[0]} high-quality cells are left for downstream processing')\n"
   ]
  },
  {
   "cell_type": "code",
   "execution_count": 21,
   "metadata": {},
   "outputs": [],
   "source": [
    "# 128G\n",
    "!scregseg subset \\\n",
    "          --incounts liam_manuscript_reproducibility/data/derived/Swanson2021/perm_cells/countmatrix_perm_cells_informative_rarest_states_out_of_50_0.h5ad \\\n",
    "          --outcounts liam_manuscript_reproducibility/data/derived/Swanson2021/perm_cells/filtered_countmatrix_perm_cells_informative_rarest_states_out_of_50_0.h5ad \\\n",
    "          --subset liam_manuscript_reproducibility/data/derived/Swanson2021/perm_cells/qcontrolled_cells_Multiome_perm_cells.csv"
   ]
  }
 ],
 "metadata": {
  "kernelspec": {
   "display_name": "lpr_scregseg",
   "language": "python",
   "name": "lpr_scregseg"
  },
  "language_info": {
   "codemirror_mode": {
    "name": "ipython",
    "version": 3
   },
   "file_extension": ".py",
   "mimetype": "text/x-python",
   "name": "python",
   "nbconvert_exporter": "python",
   "pygments_lexer": "ipython3",
   "version": "3.7.11"
  }
 },
 "nbformat": 4,
 "nbformat_minor": 4
}
