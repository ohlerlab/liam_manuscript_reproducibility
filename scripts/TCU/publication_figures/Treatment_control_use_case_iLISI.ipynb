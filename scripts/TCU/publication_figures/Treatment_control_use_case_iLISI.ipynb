{
 "cells": [
  {
   "cell_type": "code",
   "execution_count": 1,
   "id": "geological-locking",
   "metadata": {},
   "outputs": [],
   "source": [
    "# Compute iLISI for all presented models (DOGMA-seq)\n",
    "# run on max042\n",
    "# January 28th, 2024\n",
    "\n",
    "# Anaconda environment: scib_v1.0.1_min"
   ]
  },
  {
   "cell_type": "code",
   "execution_count": 2,
   "id": "humanitarian-twenty",
   "metadata": {},
   "outputs": [
    {
     "name": "stderr",
     "output_type": "stream",
     "text": [
      "During startup - Warning messages:\n",
      "1: Setting LC_CTYPE failed, using \"C\" \n",
      "2: Setting LC_COLLATE failed, using \"C\" \n",
      "3: Setting LC_TIME failed, using \"C\" \n",
      "4: Setting LC_MESSAGES failed, using \"C\" \n",
      "5: Setting LC_MONETARY failed, using \"C\" \n",
      "6: Setting LC_PAPER failed, using \"C\" \n",
      "7: Setting LC_MEASUREMENT failed, using \"C\" \n"
     ]
    }
   ],
   "source": [
    "import anndata as ad\n",
    "import pandas as pd\n",
    "import scib\n",
    "import matplotlib.pyplot as plt\n",
    "from pandas.api.types import CategoricalDtype"
   ]
  },
  {
   "cell_type": "code",
   "execution_count": 3,
   "id": "partial-stylus",
   "metadata": {},
   "outputs": [],
   "source": [
    "import warnings\n",
    "warnings.filterwarnings('ignore')"
   ]
  },
  {
   "cell_type": "code",
   "execution_count": 4,
   "id": "unique-edwards",
   "metadata": {},
   "outputs": [],
   "source": [
    "models = [                   \n",
    "'BAVAE_buffer_100',\n",
    "'BAVAE_buffer_100_x5',\n",
    "'BAVAE_buffer_100_x10',\n",
    "'BAVAE_buffer_100_x25',\n",
    "'BAVAE_buffer_100_x50',\n",
    "'BAVAE_buffer_100_x100',\n",
    "'BAVAE_buffer_100_x1000',\n",
    "'BAVAE_sample_100',\n",
    "'BAVAE_sample_100_x5',\n",
    "'BAVAE_sample_100_x10',\n",
    "'BAVAE_sample_100_x25',\n",
    "'BAVAE_sample_100_x50',\n",
    "'BAVAE_sample_100_x100',\n",
    "'BAVAE_sample_100_x1000',\n",
    "]"
   ]
  },
  {
   "cell_type": "code",
   "execution_count": 5,
   "id": "american-secretary",
   "metadata": {},
   "outputs": [
    {
     "name": "stdout",
     "output_type": "stream",
     "text": [
      "/tmp/6661713.1.all.q/lisi_mc83xtgc/input.mtx /tmp/6661713.1.all.q/lisi_mc83xtgc/\n",
      "File has no entries. Doing nothing.\n",
      "/tmp/6661713.1.all.q/lisi_ca6cim07/input.mtx /tmp/6661713.1.all.q/lisi_ca6cim07/\n",
      "File has no entries. Doing nothing.\n",
      "/tmp/6661713.1.all.q/lisi_i7m_e4xg/input.mtx /tmp/6661713.1.all.q/lisi_i7m_e4xg/\n",
      "File has no entries. Doing nothing.\n",
      "/tmp/6661713.1.all.q/lisi_xawa2hz2/input.mtx /tmp/6661713.1.all.q/lisi_xawa2hz2/\n",
      "File has no entries. Doing nothing.\n",
      "/tmp/6661713.1.all.q/lisi_m_nmz_48/input.mtx /tmp/6661713.1.all.q/lisi_m_nmz_48/\n",
      "File has no entries. Doing nothing.\n",
      "/tmp/6661713.1.all.q/lisi_ouw986up/input.mtx /tmp/6661713.1.all.q/lisi_ouw986up/\n",
      "File has no entries. Doing nothing.\n",
      "/tmp/6661713.1.all.q/lisi_kdjl776b/input.mtx /tmp/6661713.1.all.q/lisi_kdjl776b/\n",
      "File has no entries. Doing nothing.\n",
      "/tmp/6661713.1.all.q/lisi__sdzy93w/input.mtx /tmp/6661713.1.all.q/lisi__sdzy93w/\n",
      "File has no entries. Doing nothing.\n",
      "/tmp/6661713.1.all.q/lisi_1kkf8oyr/input.mtx /tmp/6661713.1.all.q/lisi_1kkf8oyr/\n",
      "File has no entries. Doing nothing.\n",
      "/tmp/6661713.1.all.q/lisi_eo0panzw/input.mtx /tmp/6661713.1.all.q/lisi_eo0panzw/\n",
      "File has no entries. Doing nothing.\n",
      "/tmp/6661713.1.all.q/lisi_gb1ez3y7/input.mtx /tmp/6661713.1.all.q/lisi_gb1ez3y7/\n",
      "File has no entries. Doing nothing.\n",
      "/tmp/6661713.1.all.q/lisi_ayfrry11/input.mtx /tmp/6661713.1.all.q/lisi_ayfrry11/\n",
      "File has no entries. Doing nothing.\n",
      "/tmp/6661713.1.all.q/lisi_1f3eekvd/input.mtx /tmp/6661713.1.all.q/lisi_1f3eekvd/\n",
      "File has no entries. Doing nothing.\n",
      "/tmp/6661713.1.all.q/lisi_fp8vtvl9/input.mtx /tmp/6661713.1.all.q/lisi_fp8vtvl9/\n",
      "File has no entries. Doing nothing.\n",
      "/tmp/6661713.1.all.q/lisi_2_yxyqea/input.mtx /tmp/6661713.1.all.q/lisi_2_yxyqea/\n",
      "File has no entries. Doing nothing.\n",
      "/tmp/6661713.1.all.q/lisi_zvg3736l/input.mtx /tmp/6661713.1.all.q/lisi_zvg3736l/\n",
      "File has no entries. Doing nothing.\n",
      "/tmp/6661713.1.all.q/lisi_h0e85sqh/input.mtx /tmp/6661713.1.all.q/lisi_h0e85sqh/\n",
      "File has no entries. Doing nothing.\n",
      "/tmp/6661713.1.all.q/lisi_kz7aihol/input.mtx /tmp/6661713.1.all.q/lisi_kz7aihol/\n",
      "File has no entries. Doing nothing.\n",
      "/tmp/6661713.1.all.q/lisi_wv3cchou/input.mtx /tmp/6661713.1.all.q/lisi_wv3cchou/\n",
      "File has no entries. Doing nothing.\n",
      "/tmp/6661713.1.all.q/lisi_tl_ju3wj/input.mtx /tmp/6661713.1.all.q/lisi_tl_ju3wj/\n",
      "File has no entries. Doing nothing.\n",
      "/tmp/6661713.1.all.q/lisi_y5hxewnq/input.mtx /tmp/6661713.1.all.q/lisi_y5hxewnq/\n",
      "File has no entries. Doing nothing.\n",
      "/tmp/6661713.1.all.q/lisi_ba_u7y_z/input.mtx /tmp/6661713.1.all.q/lisi_ba_u7y_z/\n",
      "File has no entries. Doing nothing.\n",
      "/tmp/6661713.1.all.q/lisi_ia25bpet/input.mtx /tmp/6661713.1.all.q/lisi_ia25bpet/\n",
      "File has no entries. Doing nothing.\n",
      "/tmp/6661713.1.all.q/lisi_utgi3qqn/input.mtx /tmp/6661713.1.all.q/lisi_utgi3qqn/\n",
      "File has no entries. Doing nothing.\n",
      "/tmp/6661713.1.all.q/lisi_9zkhhcrr/input.mtx /tmp/6661713.1.all.q/lisi_9zkhhcrr/\n",
      "File has no entries. Doing nothing.\n",
      "/tmp/6661713.1.all.q/lisi_9adfe_b4/input.mtx /tmp/6661713.1.all.q/lisi_9adfe_b4/\n",
      "File has no entries. Doing nothing.\n",
      "/tmp/6661713.1.all.q/lisi_n5icq4wd/input.mtx /tmp/6661713.1.all.q/lisi_n5icq4wd/\n",
      "File has no entries. Doing nothing.\n",
      "/tmp/6661713.1.all.q/lisi_dkgbm19k/input.mtx /tmp/6661713.1.all.q/lisi_dkgbm19k/\n",
      "File has no entries. Doing nothing.\n",
      "/tmp/6661713.1.all.q/lisi_vouabnma/input.mtx /tmp/6661713.1.all.q/lisi_vouabnma/\n",
      "File has no entries. Doing nothing.\n",
      "/tmp/6661713.1.all.q/lisi_pnh74w03/input.mtx /tmp/6661713.1.all.q/lisi_pnh74w03/\n",
      "File has no entries. Doing nothing.\n",
      "/tmp/6661713.1.all.q/lisi_4l567mul/input.mtx /tmp/6661713.1.all.q/lisi_4l567mul/\n",
      "File has no entries. Doing nothing.\n",
      "/tmp/6661713.1.all.q/lisi_61dhb742/input.mtx /tmp/6661713.1.all.q/lisi_61dhb742/\n",
      "File has no entries. Doing nothing.\n",
      "/tmp/6661713.1.all.q/lisi_x2q4s595/input.mtx /tmp/6661713.1.all.q/lisi_x2q4s595/\n",
      "File has no entries. Doing nothing.\n",
      "/tmp/6661713.1.all.q/lisi_351z6pcp/input.mtx /tmp/6661713.1.all.q/lisi_351z6pcp/\n",
      "File has no entries. Doing nothing.\n",
      "/tmp/6661713.1.all.q/lisi_22zsjjh4/input.mtx /tmp/6661713.1.all.q/lisi_22zsjjh4/\n",
      "File has no entries. Doing nothing.\n",
      "/tmp/6661713.1.all.q/lisi_k8f7i0of/input.mtx /tmp/6661713.1.all.q/lisi_k8f7i0of/\n",
      "File has no entries. Doing nothing.\n",
      "/tmp/6661713.1.all.q/lisi_i__h98zu/input.mtx /tmp/6661713.1.all.q/lisi_i__h98zu/\n",
      "File has no entries. Doing nothing.\n",
      "/tmp/6661713.1.all.q/lisi_ibc_d3_b/input.mtx /tmp/6661713.1.all.q/lisi_ibc_d3_b/\n",
      "File has no entries. Doing nothing.\n",
      "/tmp/6661713.1.all.q/lisi_baa6by1k/input.mtx /tmp/6661713.1.all.q/lisi_baa6by1k/\n",
      "File has no entries. Doing nothing.\n",
      "/tmp/6661713.1.all.q/lisi_z19mhlka/input.mtx /tmp/6661713.1.all.q/lisi_z19mhlka/\n",
      "File has no entries. Doing nothing.\n",
      "/tmp/6661713.1.all.q/lisi_v5fy2z33/input.mtx /tmp/6661713.1.all.q/lisi_v5fy2z33/\n",
      "File has no entries. Doing nothing.\n"
     ]
    }
   ],
   "source": [
    "score_dict = {}\n",
    "for model in models:\n",
    "    score_dict[model] = {}\n",
    "    embedding = ad.read_h5ad('./../Predictions/{}.prediction.h5ad'.format(model))\n",
    "    score_dict[model]['iLISI_sample'] = scib.me.lisi.ilisi_graph(embedding, batch_key='sample', multiprocessing=True)\n",
    "    score_dict[model]['iLISI_replicate'] = scib.me.lisi.ilisi_graph(embedding, batch_key='buffer', multiprocessing=True)\n",
    "    score_dict[model]['iLISI_condition'] = scib.me.lisi.ilisi_graph(embedding, batch_key='condition', multiprocessing=True)\n"
   ]
  },
  {
   "cell_type": "code",
   "execution_count": 45,
   "id": "imperial-singapore",
   "metadata": {},
   "outputs": [],
   "source": [
    "iLISI = pd.DataFrame(score_dict).T"
   ]
  },
  {
   "cell_type": "code",
   "execution_count": 46,
   "id": "irish-accessory",
   "metadata": {},
   "outputs": [],
   "source": [
    "iLISI['Model'] = iLISI.index"
   ]
  },
  {
   "cell_type": "code",
   "execution_count": 47,
   "id": "stretch-certification",
   "metadata": {},
   "outputs": [
    {
     "data": {
      "text/plain": [
       "BAVAE_buffer_100          1\n",
       "BAVAE_buffer_100_x5       1\n",
       "BAVAE_buffer_100_x10      1\n",
       "BAVAE_buffer_100_x25      1\n",
       "BAVAE_buffer_100_x50      1\n",
       "BAVAE_buffer_100_x100     1\n",
       "BAVAE_buffer_100_x1000    1\n",
       "BAVAE_sample_100          1\n",
       "BAVAE_sample_100_x5       1\n",
       "BAVAE_sample_100_x10      1\n",
       "BAVAE_sample_100_x25      1\n",
       "BAVAE_sample_100_x50      1\n",
       "BAVAE_sample_100_x100     1\n",
       "BAVAE_sample_100_x1000    1\n",
       "Name: Model, dtype: int64"
      ]
     },
     "execution_count": 47,
     "metadata": {},
     "output_type": "execute_result"
    }
   ],
   "source": [
    "iLISI['Model'].value_counts()"
   ]
  },
  {
   "cell_type": "code",
   "execution_count": 48,
   "id": "least-classification",
   "metadata": {},
   "outputs": [],
   "source": [
    "iLISI['Model'] = iLISI.index.map(lambda x:\n",
    "                                 'Liam_replicate_x1000' if 'BAVAE_buffer_100_x1000' in x else\n",
    "                                 'Liam_replicate_x100' if 'BAVAE_buffer_100_x100' in x else\n",
    "                                 'Liam_replicate_x50' if 'BAVAE_buffer_100_x50' in x else\n",
    "                                 'Liam_replicate_x10' if 'BAVAE_buffer_100_x10' in x else\n",
    "                                 'Liam_replicate_x25' if 'BAVAE_buffer_100_x25' in x else\n",
    "                                 'Liam_replicate_x5' if 'BAVAE_buffer_100_x5' in x else\n",
    "                                 'Liam_replicate_x1' if 'BAVAE_buffer_100' in x else\n",
    "                                 'Liam_sample_x1000' if 'BAVAE_sample_100_x1000' in x else\n",
    "                                 'Liam_sample_x100' if 'BAVAE_sample_100_x100' in x else\n",
    "                                 'Liam_sample_x50' if 'BAVAE_sample_100_x50' in x else\n",
    "                                 'Liam_sample_x10' if 'BAVAE_sample_100_x10' in x else\n",
    "                                 'Liam_sample_x25' if 'BAVAE_sample_100_x25' in x else\n",
    "                                 'Liam_sample_x5' if 'BAVAE_sample_100_x5' in x else\n",
    "                                 'Liam_sample_x1'\n",
    "                                )\n",
    "                               "
   ]
  },
  {
   "cell_type": "code",
   "execution_count": 49,
   "id": "moral-lying",
   "metadata": {},
   "outputs": [
    {
     "data": {
      "text/plain": [
       "Liam_replicate_x1       1\n",
       "Liam_replicate_x5       1\n",
       "Liam_replicate_x10      1\n",
       "Liam_replicate_x25      1\n",
       "Liam_replicate_x50      1\n",
       "Liam_replicate_x100     1\n",
       "Liam_replicate_x1000    1\n",
       "Liam_sample_x1          1\n",
       "Liam_sample_x5          1\n",
       "Liam_sample_x10         1\n",
       "Liam_sample_x25         1\n",
       "Liam_sample_x50         1\n",
       "Liam_sample_x100        1\n",
       "Liam_sample_x1000       1\n",
       "Name: Model, dtype: int64"
      ]
     },
     "execution_count": 49,
     "metadata": {},
     "output_type": "execute_result"
    }
   ],
   "source": [
    "iLISI['Model'].value_counts()"
   ]
  },
  {
   "cell_type": "code",
   "execution_count": 50,
   "id": "distant-loading",
   "metadata": {},
   "outputs": [],
   "source": [
    "iLISI.to_csv(\"./../Evaluation/batch_removal_scores_publication_20240128.csv\", index=True)\n"
   ]
  }
 ],
 "metadata": {
  "kernelspec": {
   "display_name": "scib_v1.0.1_min",
   "language": "python",
   "name": "scib_v1.0.1_min"
  },
  "language_info": {
   "codemirror_mode": {
    "name": "ipython",
    "version": 3
   },
   "file_extension": ".py",
   "mimetype": "text/x-python",
   "name": "python",
   "nbconvert_exporter": "python",
   "pygments_lexer": "ipython3",
   "version": "3.8.13"
  }
 },
 "nbformat": 4,
 "nbformat_minor": 5
}
