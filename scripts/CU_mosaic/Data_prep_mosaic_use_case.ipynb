{
 "cells": [
  {
   "cell_type": "markdown",
   "id": "southern-punishment",
   "metadata": {},
   "source": [
    "# Prepare Mosaic use case from NeurIPS competition data\n",
    "Author: Pia Rautenstrauch\n",
    "\n",
    "Date: 4th of February, 2023\n",
    "\n",
    "- Rationale: use only a single paired data set, three unpaired data sets, as paired assays continue to be more expensive and technically challenging, so it is more likely we only have a few paired data sets\n",
    "- Donor 1 measured at s1, s2, s4\n",
    "\n",
    "## Control\n",
    "- s1: atac only \n",
    "- s2: gex only\n",
    "- s3: atac only\n",
    "- s4: paired\n",
    "\n",
    "## A\n",
    "- s1: atac only - subsampled atac\n",
    "- s2: gex only\n",
    "- s3: atac only - subsampled atac \n",
    "- s4: paired\n",
    "\n",
    "## B\n",
    "- s1: atac only \n",
    "- s2: gex only\n",
    "- s3 atac only \n",
    "- s4: paired - subsampled atac "
   ]
  },
  {
   "cell_type": "code",
   "execution_count": 1,
   "id": "cooperative-textbook",
   "metadata": {},
   "outputs": [
    {
     "name": "stderr",
     "output_type": "stream",
     "text": [
      "Global seed set to 0\n",
      "OMP: Info #276: omp_set_nested routine deprecated, please use omp_set_max_active_levels instead.\n"
     ]
    }
   ],
   "source": [
    "# Imports\n",
    "import liam_NeurIPS2021_challenge_reproducibility\n",
    "import scanpy as sc\n",
    "import numpy as np\n",
    "import matplotlib.pyplot as plt\n",
    "import pandas as pd\n",
    "import torch\n",
    "import anndata as ad\n",
    "import os\n",
    "import scvi"
   ]
  },
  {
   "cell_type": "code",
   "execution_count": 2,
   "id": "three-division",
   "metadata": {},
   "outputs": [],
   "source": [
    "# Load data\n",
    "ad_mod1 = ad.read_h5ad(\"./../../data/original/neurips_competition/openproblems_bmmc_multiome_phase2/openproblems_bmmc_multiome_phase2.censor_dataset.output_mod1.h5ad\")\n",
    "ad_mod2 = ad.read_h5ad(\"./../../data/original/neurips_competition/openproblems_bmmc_multiome_phase2/openproblems_bmmc_multiome_phase2.censor_dataset.output_mod2.h5ad\")"
   ]
  },
  {
   "cell_type": "code",
   "execution_count": 3,
   "id": "automatic-prototype",
   "metadata": {},
   "outputs": [],
   "source": [
    "ad_mod1.obs[\"sample\"] = ad_mod1.obs[\"batch\"]\n",
    "ad_mod1.obs[\"donor\"] = ad_mod1.obs[\"batch\"].apply(lambda x: x.split(\"d\")[1])\n",
    "ad_mod1.obs[\"site\"] = ad_mod1.obs[\"batch\"].apply(lambda x: x.split(\"d\")[0])"
   ]
  },
  {
   "cell_type": "code",
   "execution_count": 4,
   "id": "inside-fourth",
   "metadata": {},
   "outputs": [],
   "source": [
    "ad_mod2.obs[\"sample\"] = ad_mod2.obs[\"batch\"]\n",
    "ad_mod2.obs[\"donor\"] = ad_mod2.obs[\"batch\"].apply(lambda x: x.split(\"d\")[1])\n",
    "ad_mod2.obs[\"site\"] = ad_mod2.obs[\"batch\"].apply(lambda x: x.split(\"d\")[0])"
   ]
  },
  {
   "cell_type": "code",
   "execution_count": 5,
   "id": "local-bachelor",
   "metadata": {},
   "outputs": [
    {
     "data": {
      "text/plain": [
       "s4    20009\n",
       "s1    15560\n",
       "s2    13662\n",
       "s3    13270\n",
       "Name: site, dtype: int64"
      ]
     },
     "execution_count": 5,
     "metadata": {},
     "output_type": "execute_result"
    }
   ],
   "source": [
    "ad_mod1.obs['site'].value_counts()"
   ]
  },
  {
   "cell_type": "code",
   "execution_count": 6,
   "id": "necessary-spare",
   "metadata": {},
   "outputs": [],
   "source": [
    "# Control "
   ]
  },
  {
   "cell_type": "code",
   "execution_count": 7,
   "id": "commercial-invitation",
   "metadata": {},
   "outputs": [],
   "source": [
    "ad_mod1.obs['mod'] = 'paired'"
   ]
  },
  {
   "cell_type": "code",
   "execution_count": 8,
   "id": "informative-mechanism",
   "metadata": {},
   "outputs": [
    {
     "name": "stderr",
     "output_type": "stream",
     "text": [
      "/home/prauten/miniconda3/envs/dynamic_LIAM_challenge_reproducibility/lib/python3.8/site-packages/anndata/_core/anndata.py:1228: FutureWarning: The `inplace` parameter in pandas.Categorical.reorder_categories is deprecated and will be removed in a future version. Reordering categories will always return a new Categorical object.\n",
      "  c.reorder_categories(natsorted(c.categories), inplace=True)\n",
      "... storing 'donor' as categorical\n",
      "/home/prauten/miniconda3/envs/dynamic_LIAM_challenge_reproducibility/lib/python3.8/site-packages/anndata/_core/anndata.py:1228: FutureWarning: The `inplace` parameter in pandas.Categorical.reorder_categories is deprecated and will be removed in a future version. Reordering categories will always return a new Categorical object.\n",
      "  c.reorder_categories(natsorted(c.categories), inplace=True)\n",
      "... storing 'site' as categorical\n",
      "/home/prauten/miniconda3/envs/dynamic_LIAM_challenge_reproducibility/lib/python3.8/site-packages/anndata/_core/anndata.py:1228: FutureWarning: The `inplace` parameter in pandas.Categorical.reorder_categories is deprecated and will be removed in a future version. Reordering categories will always return a new Categorical object.\n",
      "  c.reorder_categories(natsorted(c.categories), inplace=True)\n",
      "... storing 'mod' as categorical\n"
     ]
    }
   ],
   "source": [
    "ad_mod1.write_h5ad(\"./../../data/derived/neurips_competition/mosaic_use_case_full.output_mod1.h5ad\")"
   ]
  },
  {
   "cell_type": "code",
   "execution_count": 9,
   "id": "built-watch",
   "metadata": {},
   "outputs": [
    {
     "name": "stderr",
     "output_type": "stream",
     "text": [
      "/home/prauten/miniconda3/envs/dynamic_LIAM_challenge_reproducibility/lib/python3.8/site-packages/anndata/_core/anndata.py:1228: FutureWarning: The `inplace` parameter in pandas.Categorical.reorder_categories is deprecated and will be removed in a future version. Reordering categories will always return a new Categorical object.\n",
      "  c.reorder_categories(natsorted(c.categories), inplace=True)\n",
      "... storing 'donor' as categorical\n",
      "/home/prauten/miniconda3/envs/dynamic_LIAM_challenge_reproducibility/lib/python3.8/site-packages/anndata/_core/anndata.py:1228: FutureWarning: The `inplace` parameter in pandas.Categorical.reorder_categories is deprecated and will be removed in a future version. Reordering categories will always return a new Categorical object.\n",
      "  c.reorder_categories(natsorted(c.categories), inplace=True)\n",
      "... storing 'site' as categorical\n"
     ]
    }
   ],
   "source": [
    "ad_mod2.write_h5ad(\"./../../data/derived/neurips_competition/mosaic_use_case_full.output_mod2.h5ad\")"
   ]
  },
  {
   "cell_type": "code",
   "execution_count": 7,
   "id": "spread-outline",
   "metadata": {},
   "outputs": [],
   "source": [
    "# sites with d1 measured: s1, s2, s4"
   ]
  },
  {
   "cell_type": "code",
   "execution_count": 8,
   "id": "primary-partnership",
   "metadata": {},
   "outputs": [],
   "source": [
    "# s1 and s3: only atac"
   ]
  },
  {
   "cell_type": "code",
   "execution_count": 6,
   "id": "legal-lucas",
   "metadata": {},
   "outputs": [],
   "source": [
    "ad_mod1.obs['mod'] = ad_mod1.obs['site'].apply(lambda x: 'atac' if ((x == 's1') | (x == 's3')) else 'gex' if x == 's2' else 'paired')"
   ]
  },
  {
   "cell_type": "code",
   "execution_count": 9,
   "id": "instructional-quilt",
   "metadata": {},
   "outputs": [
    {
     "name": "stderr",
     "output_type": "stream",
     "text": [
      "/home/prauten/miniconda3/envs/dynamic_LIAM_challenge_reproducibility/lib/python3.8/site-packages/scipy/sparse/_index.py:146: SparseEfficiencyWarning: Changing the sparsity structure of a csc_matrix is expensive. lil_matrix is more efficient.\n",
      "  self._set_arrayXarray(i, j, x)\n"
     ]
    }
   ],
   "source": [
    "ad_mod1.layers[\"counts\"][(ad_mod1.obs['site'] == 's1') | (ad_mod1.obs['site'] == 's3')] = 0"
   ]
  },
  {
   "cell_type": "code",
   "execution_count": 10,
   "id": "angry-lawsuit",
   "metadata": {},
   "outputs": [
    {
     "data": {
      "text/plain": [
       "0.0"
      ]
     },
     "execution_count": 10,
     "metadata": {},
     "output_type": "execute_result"
    }
   ],
   "source": [
    "ad_mod1.layers[\"counts\"][(ad_mod1.obs['site'] == 's1') | (ad_mod1.obs['site'] == 's3')].max()"
   ]
  },
  {
   "cell_type": "code",
   "execution_count": 11,
   "id": "lucky-delight",
   "metadata": {},
   "outputs": [
    {
     "data": {
      "text/plain": [
       "3027.0"
      ]
     },
     "execution_count": 11,
     "metadata": {},
     "output_type": "execute_result"
    }
   ],
   "source": [
    "ad_mod1.layers[\"counts\"].max()"
   ]
  },
  {
   "cell_type": "code",
   "execution_count": 12,
   "id": "future-helmet",
   "metadata": {},
   "outputs": [],
   "source": [
    "# s2: only gex"
   ]
  },
  {
   "cell_type": "code",
   "execution_count": 13,
   "id": "usual-couple",
   "metadata": {},
   "outputs": [],
   "source": [
    "ad_mod2.X[ad_mod2.obs['site'] == 's2'] = 0"
   ]
  },
  {
   "cell_type": "code",
   "execution_count": 14,
   "id": "informational-street",
   "metadata": {},
   "outputs": [
    {
     "data": {
      "text/plain": [
       "0.0"
      ]
     },
     "execution_count": 14,
     "metadata": {},
     "output_type": "execute_result"
    }
   ],
   "source": [
    "ad_mod2.X[ad_mod2.obs['site'] == 's2'].max()"
   ]
  },
  {
   "cell_type": "code",
   "execution_count": 15,
   "id": "tribal-lobby",
   "metadata": {},
   "outputs": [
    {
     "data": {
      "text/plain": [
       "1.0"
      ]
     },
     "execution_count": 15,
     "metadata": {},
     "output_type": "execute_result"
    }
   ],
   "source": [
    "ad_mod2.X.max()"
   ]
  },
  {
   "cell_type": "code",
   "execution_count": 16,
   "id": "sacred-shark",
   "metadata": {},
   "outputs": [
    {
     "data": {
      "text/plain": [
       "s4    20009\n",
       "s1    15560\n",
       "s2    13662\n",
       "s3    13270\n",
       "Name: site, dtype: int64"
      ]
     },
     "execution_count": 16,
     "metadata": {},
     "output_type": "execute_result"
    }
   ],
   "source": [
    "ad_mod1.obs['site'].value_counts()"
   ]
  },
  {
   "cell_type": "code",
   "execution_count": 17,
   "id": "wrong-commitment",
   "metadata": {},
   "outputs": [
    {
     "data": {
      "text/plain": [
       "atac      28830\n",
       "paired    20009\n",
       "gex       13662\n",
       "Name: mod, dtype: int64"
      ]
     },
     "execution_count": 17,
     "metadata": {},
     "output_type": "execute_result"
    }
   ],
   "source": [
    "ad_mod1.obs['mod'].value_counts()"
   ]
  },
  {
   "cell_type": "code",
   "execution_count": 18,
   "id": "double-slope",
   "metadata": {},
   "outputs": [
    {
     "name": "stderr",
     "output_type": "stream",
     "text": [
      "/home/prauten/miniconda3/envs/dynamic_LIAM_challenge_reproducibility/lib/python3.8/site-packages/anndata/_core/anndata.py:1228: FutureWarning: The `inplace` parameter in pandas.Categorical.reorder_categories is deprecated and will be removed in a future version. Reordering categories will always return a new Categorical object.\n",
      "  c.reorder_categories(natsorted(c.categories), inplace=True)\n",
      "... storing 'donor' as categorical\n",
      "/home/prauten/miniconda3/envs/dynamic_LIAM_challenge_reproducibility/lib/python3.8/site-packages/anndata/_core/anndata.py:1228: FutureWarning: The `inplace` parameter in pandas.Categorical.reorder_categories is deprecated and will be removed in a future version. Reordering categories will always return a new Categorical object.\n",
      "  c.reorder_categories(natsorted(c.categories), inplace=True)\n",
      "... storing 'site' as categorical\n",
      "/home/prauten/miniconda3/envs/dynamic_LIAM_challenge_reproducibility/lib/python3.8/site-packages/anndata/_core/anndata.py:1228: FutureWarning: The `inplace` parameter in pandas.Categorical.reorder_categories is deprecated and will be removed in a future version. Reordering categories will always return a new Categorical object.\n",
      "  c.reorder_categories(natsorted(c.categories), inplace=True)\n",
      "... storing 'mod' as categorical\n"
     ]
    }
   ],
   "source": [
    "ad_mod1.write_h5ad(\"./../../data/derived/neurips_competition/mosaic_use_case_a.output_mod1.h5ad\")"
   ]
  },
  {
   "cell_type": "code",
   "execution_count": 19,
   "id": "studied-wings",
   "metadata": {},
   "outputs": [
    {
     "name": "stderr",
     "output_type": "stream",
     "text": [
      "/home/prauten/miniconda3/envs/dynamic_LIAM_challenge_reproducibility/lib/python3.8/site-packages/anndata/_core/anndata.py:1228: FutureWarning: The `inplace` parameter in pandas.Categorical.reorder_categories is deprecated and will be removed in a future version. Reordering categories will always return a new Categorical object.\n",
      "  c.reorder_categories(natsorted(c.categories), inplace=True)\n",
      "... storing 'donor' as categorical\n",
      "/home/prauten/miniconda3/envs/dynamic_LIAM_challenge_reproducibility/lib/python3.8/site-packages/anndata/_core/anndata.py:1228: FutureWarning: The `inplace` parameter in pandas.Categorical.reorder_categories is deprecated and will be removed in a future version. Reordering categories will always return a new Categorical object.\n",
      "  c.reorder_categories(natsorted(c.categories), inplace=True)\n",
      "... storing 'site' as categorical\n"
     ]
    }
   ],
   "source": [
    "ad_mod2.write_h5ad(\"./../../data/derived/neurips_competition/mosaic_use_case_a.output_mod2.h5ad\")"
   ]
  },
  {
   "cell_type": "code",
   "execution_count": 20,
   "id": "photographic-scale",
   "metadata": {},
   "outputs": [],
   "source": [
    "ad_mod1.write_h5ad(\"./../../data/derived/neurips_competition/mosaic_use_case_b.output_mod1.h5ad\")"
   ]
  },
  {
   "cell_type": "code",
   "execution_count": 21,
   "id": "virtual-apache",
   "metadata": {},
   "outputs": [],
   "source": [
    "ad_mod2.write_h5ad(\"./../../data/derived/neurips_competition/mosaic_use_case_b.output_mod2.h5ad\")"
   ]
  },
  {
   "cell_type": "markdown",
   "id": "normal-chorus",
   "metadata": {},
   "source": [
    "# Downsample ATAC modality by dropping non-zero (binary) observations \n",
    "\n",
    "Aim: Investigate how a low quality/coverage modality impacts joint vs. concatenated models\n",
    "\n",
    "This is a heuristic strategy mimicing lower coverage data. If one had indeed measured a lower coverage dataset, the features selected would differ due to differences in the signal to noise ratios. Here, we called features with full \"high quality\" dataset, and drop observations from that.\n",
    "\n",
    "Randomly drop\n",
    "- 90% \n",
    "\n",
    "of observations."
   ]
  },
  {
   "cell_type": "code",
   "execution_count": 22,
   "id": "informed-section",
   "metadata": {},
   "outputs": [],
   "source": [
    "# Create multiple subsamples for 10% "
   ]
  },
  {
   "cell_type": "code",
   "execution_count": 23,
   "id": "comparative-steal",
   "metadata": {},
   "outputs": [],
   "source": [
    "def which_observations_to_drop(indices, percent):\n",
    "    \"\"\"\n",
    "    Helper function to drop certain percent of non-zero observations from a sparse array.\n",
    "    \n",
    "    Parameters\n",
    "    ----------\n",
    "    indices: list\n",
    "        (sorted) list of column indices of non-zero elements (per cell)\n",
    "    \n",
    "    percent: float\n",
    "        How many nonzero observations to drop (percent).\n",
    "    \n",
    "    Returns\n",
    "    -------\n",
    "    np.array\n",
    "        Sorted array of nonzero indices to drop.\n",
    "    \"\"\"\n",
    "    # Convert list to array\n",
    "    arr = np.array(indices)\n",
    "    # How many nonzero observations to drop - absolute\n",
    "    drop = int(len(indices) * percent)\n",
    "    # Randomly permute the observations\n",
    "    np.random.shuffle(arr)\n",
    "    # Return sorted array of indices of non-zero elements to drop\n",
    "    return np.sort(arr[:drop])\n",
    "    "
   ]
  },
  {
   "cell_type": "code",
   "execution_count": 24,
   "id": "specified-michigan",
   "metadata": {},
   "outputs": [],
   "source": [
    "seeds = [8831, 234, 11, 9631, 94]"
   ]
  },
  {
   "cell_type": "code",
   "execution_count": 25,
   "id": "enhanced-blackberry",
   "metadata": {},
   "outputs": [
    {
     "name": "stdout",
     "output_type": "stream",
     "text": [
      "8831\n",
      "[[1951.]\n",
      " [3965.]\n",
      " [2279.]\n",
      " ...\n",
      " [4216.]\n",
      " [8949.]\n",
      " [3157.]]\n",
      "[[ 196.]\n",
      " [ 397.]\n",
      " [ 228.]\n",
      " ...\n",
      " [4216.]\n",
      " [8949.]\n",
      " [3157.]]\n",
      "\n",
      "234\n",
      "[[1951.]\n",
      " [3965.]\n",
      " [2279.]\n",
      " ...\n",
      " [4216.]\n",
      " [8949.]\n",
      " [3157.]]\n",
      "[[ 196.]\n",
      " [ 397.]\n",
      " [ 228.]\n",
      " ...\n",
      " [4216.]\n",
      " [8949.]\n",
      " [3157.]]\n",
      "\n",
      "11\n",
      "[[1951.]\n",
      " [3965.]\n",
      " [2279.]\n",
      " ...\n",
      " [4216.]\n",
      " [8949.]\n",
      " [3157.]]\n",
      "[[ 196.]\n",
      " [ 397.]\n",
      " [ 228.]\n",
      " ...\n",
      " [4216.]\n",
      " [8949.]\n",
      " [3157.]]\n",
      "\n",
      "9631\n",
      "[[1951.]\n",
      " [3965.]\n",
      " [2279.]\n",
      " ...\n",
      " [4216.]\n",
      " [8949.]\n",
      " [3157.]]\n",
      "[[ 196.]\n",
      " [ 397.]\n",
      " [ 228.]\n",
      " ...\n",
      " [4216.]\n",
      " [8949.]\n",
      " [3157.]]\n",
      "\n",
      "94\n",
      "[[1951.]\n",
      " [3965.]\n",
      " [2279.]\n",
      " ...\n",
      " [4216.]\n",
      " [8949.]\n",
      " [3157.]]\n",
      "[[ 196.]\n",
      " [ 397.]\n",
      " [ 228.]\n",
      " ...\n",
      " [4216.]\n",
      " [8949.]\n",
      " [3157.]]\n",
      "\n"
     ]
    }
   ],
   "source": [
    "# a\n",
    "# Set random seed for reproducibility\n",
    "full = ad.read_h5ad(\"./../../data/derived/neurips_competition/mosaic_use_case_a.output_mod2.h5ad\")\n",
    "full.obs['num_index'] = np.arange(0,full.shape[0])\n",
    "\n",
    "nonzero_index_list_per_cell = full.X.tolil().rows\n",
    "# List of Lists Format (LIL) format\n",
    "# each row is a Python list (sorted) of column indices of non-zero elements\n",
    "# https://scipy-lectures.org/advanced/scipy_sparse/lil_matrix.html?highlight=lil\n",
    "\n",
    "input_backup = full.copy()\n",
    "\n",
    "## Subsampling to 10% of the data\n",
    "### In other words dropping 90% of the observations\n",
    "for seed in seeds:\n",
    "    print(seed)\n",
    "    np.random.seed(seed)\n",
    "\n",
    "    full = input_backup.copy()\n",
    "\n",
    "    # Iterate over cells from site 1 and site 3\n",
    "    for cell in full.obs[(full.obs['site'] == 's1') | (full.obs['site'] == 's3')]['num_index'].values.tolist():\n",
    "        drop = which_observations_to_drop(nonzero_index_list_per_cell[cell], 0.9)\n",
    "        # Which elements to set to zero (inplace)\n",
    "        full.X[cell, drop.tolist()] = 0\n",
    "\n",
    "    full.write_h5ad(\"./../../data/derived/neurips_competition/mosaic_use_case_a.output_mod2_10_subsample_seed_{}.h5ad\".format(seed))\n",
    "\n",
    "\n",
    "    sum_after = full.X.sum(axis=1)\n",
    "\n",
    "    sum_before = input_backup.X.sum(axis=1)\n",
    "\n",
    "    print(sum_before)\n",
    "    print(sum_after)\n",
    "    print()\n"
   ]
  },
  {
   "cell_type": "code",
   "execution_count": 26,
   "id": "trying-january",
   "metadata": {},
   "outputs": [
    {
     "name": "stdout",
     "output_type": "stream",
     "text": [
      "8831\n",
      "[[1951.]\n",
      " [3965.]\n",
      " [2279.]\n",
      " ...\n",
      " [4216.]\n",
      " [8949.]\n",
      " [3157.]]\n",
      "[[1951.]\n",
      " [3965.]\n",
      " [2279.]\n",
      " ...\n",
      " [ 422.]\n",
      " [ 895.]\n",
      " [ 316.]]\n",
      "\n",
      "234\n",
      "[[1951.]\n",
      " [3965.]\n",
      " [2279.]\n",
      " ...\n",
      " [4216.]\n",
      " [8949.]\n",
      " [3157.]]\n",
      "[[1951.]\n",
      " [3965.]\n",
      " [2279.]\n",
      " ...\n",
      " [ 422.]\n",
      " [ 895.]\n",
      " [ 316.]]\n",
      "\n",
      "11\n",
      "[[1951.]\n",
      " [3965.]\n",
      " [2279.]\n",
      " ...\n",
      " [4216.]\n",
      " [8949.]\n",
      " [3157.]]\n",
      "[[1951.]\n",
      " [3965.]\n",
      " [2279.]\n",
      " ...\n",
      " [ 422.]\n",
      " [ 895.]\n",
      " [ 316.]]\n",
      "\n",
      "9631\n",
      "[[1951.]\n",
      " [3965.]\n",
      " [2279.]\n",
      " ...\n",
      " [4216.]\n",
      " [8949.]\n",
      " [3157.]]\n",
      "[[1951.]\n",
      " [3965.]\n",
      " [2279.]\n",
      " ...\n",
      " [ 422.]\n",
      " [ 895.]\n",
      " [ 316.]]\n",
      "\n",
      "94\n",
      "[[1951.]\n",
      " [3965.]\n",
      " [2279.]\n",
      " ...\n",
      " [4216.]\n",
      " [8949.]\n",
      " [3157.]]\n",
      "[[1951.]\n",
      " [3965.]\n",
      " [2279.]\n",
      " ...\n",
      " [ 422.]\n",
      " [ 895.]\n",
      " [ 316.]]\n",
      "\n"
     ]
    }
   ],
   "source": [
    "# b\n",
    "# Set random seed for reproducibility\n",
    "full = ad.read_h5ad(\"./../../data/derived/neurips_competition/mosaic_use_case_b.output_mod2.h5ad\")\n",
    "full.obs['num_index'] = np.arange(0,full.shape[0])\n",
    "\n",
    "nonzero_index_list_per_cell = full.X.tolil().rows\n",
    "# List of Lists Format (LIL) format\n",
    "# each row is a Python list (sorted) of column indices of non-zero elements\n",
    "# https://scipy-lectures.org/advanced/scipy_sparse/lil_matrix.html?highlight=lil\n",
    "\n",
    "input_backup = full.copy()\n",
    "\n",
    "## Subsampling to 10% of the data\n",
    "### In other words dropping 90% of the observations\n",
    "for seed in seeds:\n",
    "    print(seed)\n",
    "    np.random.seed(seed)\n",
    "\n",
    "    full = input_backup.copy()\n",
    "\n",
    "    # Iterate over cells from site 4\n",
    "    for cell in full.obs[full.obs['site'] == 's4']['num_index'].values.tolist():\n",
    "        drop = which_observations_to_drop(nonzero_index_list_per_cell[cell], 0.9)\n",
    "        # Which elements to set to zero (inplace)\n",
    "        full.X[cell, drop.tolist()] = 0\n",
    "\n",
    "    full.write_h5ad(\"./../../data/derived/neurips_competition/mosaic_use_case_b.output_mod2_10_subsample_seed_{}.h5ad\".format(seed))\n",
    "\n",
    "\n",
    "    sum_after = full.X.sum(axis=1)\n",
    "\n",
    "    sum_before = input_backup.X.sum(axis=1)\n",
    "\n",
    "    print(sum_before)\n",
    "    print(sum_after)\n",
    "    print()\n"
   ]
  }
 ],
 "metadata": {
  "kernelspec": {
   "display_name": "dynamic_LIAM_challenge_reproducibility",
   "language": "python",
   "name": "dynamic_liam_challenge_reproducibility"
  },
  "language_info": {
   "codemirror_mode": {
    "name": "ipython",
    "version": 3
   },
   "file_extension": ".py",
   "mimetype": "text/x-python",
   "name": "python",
   "nbconvert_exporter": "python",
   "pygments_lexer": "ipython3",
   "version": "3.8.12"
  }
 },
 "nbformat": 4,
 "nbformat_minor": 5
}
