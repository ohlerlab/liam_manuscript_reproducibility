{
 "cells": [
  {
   "cell_type": "code",
   "execution_count": null,
   "metadata": {},
   "outputs": [],
   "source": [
    "# lpr_scregseg environment"
   ]
  },
  {
   "cell_type": "markdown",
   "metadata": {},
   "source": [
    "# Preprocess PBMC from a Healthy Donor - Granulocytes Removed Through Cell Sorting (10k) from 10x (10k_sorted)\n",
    "\n",
    "Aim: Derive identical feature set for additional ATAC data from other studies as for treatment-control use case.\n",
    "\n",
    "Keep cells with annotation from MOFA+ vignette (passing all respective preprocessing)."
   ]
  },
  {
   "cell_type": "code",
   "execution_count": 1,
   "metadata": {},
   "outputs": [],
   "source": [
    "import os\n",
    "import pandas as pd\n",
    "from anndata import read_h5ad\n",
    "import scanpy as sc\n",
    "import scregseg\n",
    "import matplotlib.pyplot as plt\n",
    "import numpy as np"
   ]
  },
  {
   "cell_type": "code",
   "execution_count": 2,
   "metadata": {},
   "outputs": [],
   "source": [
    "## ATAC preprocessing - derive same feature set as in treatment-control use case"
   ]
  },
  {
   "cell_type": "code",
   "execution_count": 3,
   "metadata": {},
   "outputs": [],
   "source": [
    "wd = \"liam_manuscript_reproducibility/data/original/10x/10k_sorted/\""
   ]
  },
  {
   "cell_type": "code",
   "execution_count": 4,
   "metadata": {},
   "outputs": [
    {
     "name": "stdout",
     "output_type": "stream",
     "text": [
      "total 2188768\n",
      "-rw-r--r-- 1 prauten AG_Ohler 1988951230 Sep  6  2020 pbmc_granulocyte_sorted_10k_atac_fragments.tsv.gz\n",
      "-rw-r--r-- 1 prauten AG_Ohler    1027204 Sep  6  2020 pbmc_granulocyte_sorted_10k_atac_fragments.tsv.gz.tbi\n",
      "-rw-r--r-- 1 prauten AG_Ohler  162282142 Sep  6  2020 pbmc_granulocyte_sorted_10k_filtered_feature_bc_matrix.h5\n",
      "-rw-r--r-- 1 prauten AG_Ohler   88984445 Sep  6  2020 pbmc_granulocyte_sorted_10k_per_barcode_metrics.csv\n"
     ]
    }
   ],
   "source": [
    "! ls -l liam_manuscript_reproducibility/data/original/10x/10k_sorted/"
   ]
  },
  {
   "cell_type": "code",
   "execution_count": 5,
   "metadata": {},
   "outputs": [
    {
     "name": "stdout",
     "output_type": "stream",
     "text": [
      "***** WARNING: File /fast/AG_Ohler/prauten/projects/github/Liam_paper_reproducibility/data/original/10x/10k_sorted/pbmc_granulocyte_sorted_10k_atac_fragments.tsv.gz has inconsistent naming convention for record:\n",
      "KI270728.1\t134006\t134070\tACTTGTCGTTGCGCGA-1\t1\n",
      "\n",
      "***** WARNING: File /fast/AG_Ohler/prauten/projects/github/Liam_paper_reproducibility/data/original/10x/10k_sorted/pbmc_granulocyte_sorted_10k_atac_fragments.tsv.gz has inconsistent naming convention for record:\n",
      "KI270728.1\t134006\t134070\tACTTGTCGTTGCGCGA-1\t1\n",
      "\n",
      "***** WARNING: File /fast/AG_Ohler/prauten/projects/github/Liam_paper_reproducibility/data/original/10x/10k_sorted/pbmc_granulocyte_sorted_10k_atac_fragments.tsv.gz has inconsistent naming convention for record:\n",
      "KI270728.1\t134006\t134070\tACTTGTCGTTGCGCGA-1\t1\n",
      "\n",
      "***** WARNING: File /fast/AG_Ohler/prauten/projects/github/Liam_paper_reproducibility/data/original/10x/10k_sorted/pbmc_granulocyte_sorted_10k_atac_fragments.tsv.gz has inconsistent naming convention for record:\n",
      "KI270728.1\t134006\t134070\tACTTGTCGTTGCGCGA-1\t1\n",
      "\n",
      "... storing 'chrom' as categorical\n",
      "... storing 'sample' as categorical\n"
     ]
    }
   ],
   "source": [
    "!scregseg fragments_to_counts \\\n",
    "          --fragmentfile liam_manuscript_reproducibility/data/original/10x/10k_sorted/pbmc_granulocyte_sorted_10k_atac_fragments.tsv.gz \\\n",
    "          --regions liam_manuscript_reproducibility/data/derived/Mimitou2021/ATAC/all_datasets_informative_rarest_states_out_of_50.bed \\\n",
    "          --with-fraglen \\\n",
    "          --counts liam_manuscript_reproducibility/data/derived/10x/10k_sorted/countmatrix_10k_sorted_informative_rarest_states_out_of_50_0.h5ad"
   ]
  },
  {
   "cell_type": "code",
   "execution_count": 6,
   "metadata": {},
   "outputs": [],
   "source": [
    "# Load cell ranger meta data (10x pipeline)\n",
    "cellranger_metadata = pd.read_csv(wd + 'pbmc_granulocyte_sorted_10k_per_barcode_metrics.csv')"
   ]
  },
  {
   "cell_type": "code",
   "execution_count": 7,
   "metadata": {},
   "outputs": [],
   "source": [
    "# Keep only barcodes that were called as cells by 10x pipeline\n",
    "cellranger_metadata = cellranger_metadata[cellranger_metadata.is_cell==1]"
   ]
  },
  {
   "cell_type": "code",
   "execution_count": 8,
   "metadata": {},
   "outputs": [],
   "source": [
    "cellranger_metadata['gex_barcode'].to_csv('liam_manuscript_reproducibility/data/derived/10x/10k_sorted/' + 'qcontrolled_cells_10x_10k_sorted.csv', index=False)"
   ]
  },
  {
   "cell_type": "code",
   "execution_count": 9,
   "metadata": {},
   "outputs": [
    {
     "name": "stdout",
     "output_type": "stream",
     "text": [
      "11909 high-quality cells are left for downstream processing\n"
     ]
    }
   ],
   "source": [
    "print(f'{cellranger_metadata.shape[0]} high-quality cells are left for downstream processing')\n"
   ]
  },
  {
   "cell_type": "code",
   "execution_count": 11,
   "metadata": {},
   "outputs": [],
   "source": [
    "# 128G\n",
    "!scregseg subset \\\n",
    "          --incounts liam_manuscript_reproducibility/data/derived/10x/10k_sorted/countmatrix_10k_sorted_informative_rarest_states_out_of_50_0.h5ad \\\n",
    "          --outcounts liam_manuscript_reproducibility/data/derived/10x/10k_sorted/filtered_countmatrix_10k_sorted_informative_rarest_states_out_of_50_0.h5ad \\\n",
    "          --subset liam_manuscript_reproducibility/data/derived/10x/10k_sorted/qcontrolled_cells_10x_10k_sorted.csv"
   ]
  }
 ],
 "metadata": {
  "kernelspec": {
   "display_name": "lpr_scregseg",
   "language": "python",
   "name": "lpr_scregseg"
  },
  "language_info": {
   "codemirror_mode": {
    "name": "ipython",
    "version": 3
   },
   "file_extension": ".py",
   "mimetype": "text/x-python",
   "name": "python",
   "nbconvert_exporter": "python",
   "pygments_lexer": "ipython3",
   "version": "3.7.11"
  }
 },
 "nbformat": 4,
 "nbformat_minor": 4
}
